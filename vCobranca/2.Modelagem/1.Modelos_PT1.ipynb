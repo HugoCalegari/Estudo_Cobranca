{
 "cells": [
  {
   "cell_type": "markdown",
   "id": "a40970df",
   "metadata": {},
   "source": [
    "# Objetivo\n",
    "\n",
    "Primeira parte de exploração de modelos e avaliação de métricas. Dois tipos de modelos serão priorizados, a RandomForest (bagging) e o XGBoost (boosting). Para estes dois, serão usados os hiperparâmetros default e o tunig de hiperparâmetros via Bayesian Search.\n",
    "\n",
    "Dado o comportamento assimétrico da variável resposta, não será considerado a regressão linear múltipla nesse caso. Como existem casos de não pagamento do saldo em atraso, não se pode aplicar a transformação logarítmica."
   ]
  },
  {
   "cell_type": "markdown",
   "id": "1f4f477c",
   "metadata": {},
   "source": [
    "# Pacotes"
   ]
  },
  {
   "cell_type": "code",
   "execution_count": 1,
   "id": "570cc723",
   "metadata": {},
   "outputs": [],
   "source": [
    "import pandas as pd\n",
    "import numpy as np\n",
    "import mlflow\n",
    "from mlflow.models import infer_signature\n",
    "from sklearn.ensemble import RandomForestRegressor\n",
    "from sklearn.metrics import mean_squared_error, r2_score, root_mean_squared_error, mean_absolute_error\n",
    "from sklearn.model_selection import cross_val_score\n",
    "import xgboost as xgb\n",
    "from bayes_opt import BayesianOptimization\n",
    "from hyperopt import fmin, tpe, Trials, hp\n",
    "from functools import partial"
   ]
  },
  {
   "cell_type": "code",
   "execution_count": 12,
   "id": "eb123d5e",
   "metadata": {},
   "outputs": [],
   "source": [
    "pd.set_option('display.max_rows', None)"
   ]
  },
  {
   "cell_type": "markdown",
   "id": "495d9d50",
   "metadata": {},
   "source": [
    "# Leitura das bases de treino e validação"
   ]
  },
  {
   "cell_type": "code",
   "execution_count": 2,
   "id": "2f356055",
   "metadata": {},
   "outputs": [],
   "source": [
    "dados_treino_pp = pd.read_parquet('../0.Avalia_Dados/Dados/treino_pp.parquet')\n",
    "dados_val_pp = pd.read_parquet('../0.Avalia_Dados/Dados/validacao_pp.parquet')"
   ]
  },
  {
   "cell_type": "code",
   "execution_count": null,
   "id": "4072d282",
   "metadata": {},
   "outputs": [
    {
     "data": {
      "text/plain": [
       "((109840, 72), (27460, 75))"
      ]
     },
     "execution_count": 3,
     "metadata": {},
     "output_type": "execute_result"
    }
   ],
   "source": [
    "# Volumetria das bases de treino e validação\n",
    "\n",
    "dados_treino_pp.shape, dados_val_pp.shape"
   ]
  },
  {
   "cell_type": "code",
   "execution_count": null,
   "id": "5b6124c2",
   "metadata": {},
   "outputs": [
    {
     "data": {
      "text/plain": [
       "Index(['IDADE', 'VAR_4', 'VAR_5', 'VAR_7', 'VAR_8', 'VAR_9', 'VAR_11',\n",
       "       'VAR_12', 'VAR_15', 'VAR_17', 'VAR_21', 'VAR_22', 'VAR_23', 'VAR_32',\n",
       "       'VAR_33', 'VAR_35', 'VAR_40', 'VAR_138', 'VAR_139', 'VAR_142',\n",
       "       'VAR_143', 'VAR_146', 'VAR_147', 'VAR_149', 'VAR_150', 'VAR_151',\n",
       "       'VAR_157', 'VAR_158', 'VAR_159', 'VAR_160', 'VAR_170', 'VAR_173',\n",
       "       'VAR_174', 'VAR_176', 'VAR_178', 'VAR_179', 'VAR_180', 'VAR_188',\n",
       "       'VAR_210', 'VAR_222', 'VAR_232', 'VAR_253', 'VAR_254', 'VAR_264',\n",
       "       'VAR_265', 'VAR_267', 'VAR_268', 'VAR_269', 'VAR_305', 'VAR_309',\n",
       "       'VAR_310', 'VAR_313', 'dias_atraso', 'pagamento', 'segmento_veiculo',\n",
       "       'VAR_2', 'VAR_42', 'VAR_44', 'VAR_45', 'VAR_46', 'VAR_47', 'VAR_48',\n",
       "       'VAR_50', 'VAR_51', 'VAR_52', 'VAR_53', 'VAR_55', 'VAR_56', 'VAR_57',\n",
       "       'VAR_113', 'VAR_256', 'saldo_vencido'],\n",
       "      dtype='object')"
      ]
     },
     "execution_count": 4,
     "metadata": {},
     "output_type": "execute_result"
    }
   ],
   "source": [
    "# Colunas da base de treino\n",
    "\n",
    "dados_treino_pp.columns"
   ]
  },
  {
   "cell_type": "code",
   "execution_count": null,
   "id": "f8c27014",
   "metadata": {},
   "outputs": [
    {
     "data": {
      "text/plain": [
       "Index(['id', 'documento', 'mes_pagamento', 'IDADE', 'VAR_4', 'VAR_5', 'VAR_7',\n",
       "       'VAR_8', 'VAR_9', 'VAR_11', 'VAR_12', 'VAR_15', 'VAR_17', 'VAR_21',\n",
       "       'VAR_22', 'VAR_23', 'VAR_32', 'VAR_33', 'VAR_35', 'VAR_40', 'VAR_138',\n",
       "       'VAR_139', 'VAR_142', 'VAR_143', 'VAR_146', 'VAR_147', 'VAR_149',\n",
       "       'VAR_150', 'VAR_151', 'VAR_157', 'VAR_158', 'VAR_159', 'VAR_160',\n",
       "       'VAR_170', 'VAR_173', 'VAR_174', 'VAR_176', 'VAR_178', 'VAR_179',\n",
       "       'VAR_180', 'VAR_188', 'VAR_210', 'VAR_222', 'VAR_232', 'VAR_253',\n",
       "       'VAR_254', 'VAR_264', 'VAR_265', 'VAR_267', 'VAR_268', 'VAR_269',\n",
       "       'VAR_305', 'VAR_309', 'VAR_310', 'VAR_313', 'dias_atraso',\n",
       "       'saldo_vencido', 'pagamento', 'segmento_veiculo', 'VAR_2', 'VAR_42',\n",
       "       'VAR_44', 'VAR_45', 'VAR_46', 'VAR_47', 'VAR_48', 'VAR_50', 'VAR_51',\n",
       "       'VAR_52', 'VAR_53', 'VAR_55', 'VAR_56', 'VAR_57', 'VAR_113', 'VAR_256'],\n",
       "      dtype='object')"
      ]
     },
     "execution_count": 5,
     "metadata": {},
     "output_type": "execute_result"
    }
   ],
   "source": [
    "# Colunas das base de validação (existem algumas a mais do que na base de treino)\n",
    "\n",
    "dados_val_pp.columns"
   ]
  },
  {
   "cell_type": "code",
   "execution_count": null,
   "id": "e6c28dfd",
   "metadata": {},
   "outputs": [],
   "source": [
    "# Separação das bases explicativa e resposta\n",
    "\n",
    "X_treino = dados_treino_pp.drop(columns=['saldo_vencido', 'pagamento'])\n",
    "y_treino = dados_treino_pp['pagamento']\n",
    "\n",
    "X_val = dados_val_pp.drop(columns=['saldo_vencido', 'pagamento', 'id', 'documento', 'mes_pagamento'])\n",
    "y_val = dados_val_pp['pagamento']"
   ]
  },
  {
   "cell_type": "code",
   "execution_count": 4,
   "id": "e6b99d47",
   "metadata": {},
   "outputs": [
    {
     "data": {
      "text/plain": [
       "((109840, 70), (27460, 70))"
      ]
     },
     "execution_count": 4,
     "metadata": {},
     "output_type": "execute_result"
    }
   ],
   "source": [
    "X_treino.shape, X_val.shape"
   ]
  },
  {
   "cell_type": "markdown",
   "id": "a553c8b2",
   "metadata": {},
   "source": [
    "# Criação do experimento"
   ]
  },
  {
   "cell_type": "code",
   "execution_count": null,
   "id": "4ed9df09",
   "metadata": {},
   "outputs": [],
   "source": [
    "# Cria um experimento no MLflow e as diferentes runs serão associadas a esse experimento: executado somente uma vez\n",
    "\n",
    "# experiment = mlflow.create_experiment(name = 'Modelos',\n",
    "#                                      artifact_location = 'Artf_Modelos',\n",
    "#                                      tags = {'Environment': 'Development', 'Version': '1.0.0'})"
   ]
  },
  {
   "cell_type": "code",
   "execution_count": null,
   "id": "c6d593e4",
   "metadata": {},
   "outputs": [
    {
     "data": {
      "text/plain": [
       "'401791776067865015'"
      ]
     },
     "execution_count": 6,
     "metadata": {},
     "output_type": "execute_result"
    }
   ],
   "source": [
    "# experiment"
   ]
  },
  {
   "cell_type": "code",
   "execution_count": null,
   "id": "9b7aac8d",
   "metadata": {},
   "outputs": [
    {
     "data": {
      "text/plain": [
       "'401791776067865015'"
      ]
     },
     "execution_count": 4,
     "metadata": {},
     "output_type": "execute_result"
    }
   ],
   "source": [
    "# Depois da criação do experimento anteriormente, basta configurá-lo para que que as informações sejam logadas nele\n",
    "\n",
    "experiment = mlflow.set_experiment(experiment_id = '401791776067865015')\n",
    "experiment.experiment_id"
   ]
  },
  {
   "cell_type": "markdown",
   "id": "fe5df86e",
   "metadata": {},
   "source": [
    "# Modelos"
   ]
  },
  {
   "cell_type": "markdown",
   "id": "4f098b5a",
   "metadata": {},
   "source": [
    "## Sem otimização de hiperparâmetros"
   ]
  },
  {
   "cell_type": "code",
   "execution_count": null,
   "id": "b5357cf3",
   "metadata": {},
   "outputs": [
    {
     "name": "stderr",
     "output_type": "stream",
     "text": [
      "/home/hugo/Documents/Git_GitHub/Estudo_Cobranca/vCobranca/lib/python3.12/site-packages/mlflow/types/utils.py:452: UserWarning: Hint: Inferred schema contains integer column(s). Integer columns in Python cannot represent missing values. If your input data contains missing values at inference time, it will be encoded as floats and will cause a schema enforcement error. The best way to avoid this problem is to infer the model schema based on a realistic data sample (training dataset) that includes missing values. Alternatively, you can declare integer columns as doubles (float64) whenever these columns may have missing values. See `Handling Integers With Missing Values <https://www.mlflow.org/docs/latest/models.html#handling-integers-with-missing-values>`_ for more details.\n",
      "  warnings.warn(\n"
     ]
    }
   ],
   "source": [
    "# Random Forest sem otimização de hiperparâmetros (default)\n",
    "\n",
    "if __name__ == '__main__':\n",
    "    \n",
    "    with mlflow.start_run(run_name = 'RF_1', experiment_id = experiment.experiment_id) as run: \n",
    "        \n",
    "        # Cria o modelo\n",
    "        rf = RandomForestRegressor()\n",
    "        \n",
    "        # Treina o modelo\n",
    "        rf.fit(X_treino, y_treino)\n",
    "\n",
    "        mlflow.log_params(rf.get_params())\n",
    "\n",
    "        # Log das métricas na base de TREINO\n",
    "        mlflow.log_metric('MSE_Treino', mean_squared_error(y_treino, rf.predict(X_treino)))\n",
    "        mlflow.log_metric('RMSE_Treino', root_mean_squared_error(y_treino, rf.predict(X_treino)))\n",
    "        mlflow.log_metric('MAE_Treino', mean_absolute_error(y_treino, rf.predict(X_treino)))\n",
    "        mlflow.log_metric('R2_Treino', r2_score(y_treino, rf.predict(X_treino)))\n",
    "\n",
    "        # Log das métricas na base de VALIDAÇÃO\n",
    "        mlflow.log_metric('MSE_Val', mean_squared_error(y_val, rf.predict(X_val)))\n",
    "        mlflow.log_metric('RMSE_Val', root_mean_squared_error(y_val, rf.predict(X_val)))\n",
    "        mlflow.log_metric('MAE_Val', mean_absolute_error(y_val, rf.predict(X_val)))\n",
    "        mlflow.log_metric('R2_Val', r2_score(y_val, rf.predict(X_val)))\n",
    "\n",
    "        signature = infer_signature(X_treino, rf.predict(X_treino))\n",
    "        mlflow.sklearn.log_model(rf, signature=signature, artifact_path='modelo')"
   ]
  },
  {
   "cell_type": "code",
   "execution_count": null,
   "id": "ac7469e8",
   "metadata": {},
   "outputs": [
    {
     "name": "stderr",
     "output_type": "stream",
     "text": [
      "/home/hugo/Documents/Git_GitHub/Estudo_Cobranca/vCobranca/lib/python3.12/site-packages/mlflow/types/utils.py:452: UserWarning: Hint: Inferred schema contains integer column(s). Integer columns in Python cannot represent missing values. If your input data contains missing values at inference time, it will be encoded as floats and will cause a schema enforcement error. The best way to avoid this problem is to infer the model schema based on a realistic data sample (training dataset) that includes missing values. Alternatively, you can declare integer columns as doubles (float64) whenever these columns may have missing values. See `Handling Integers With Missing Values <https://www.mlflow.org/docs/latest/models.html#handling-integers-with-missing-values>`_ for more details.\n",
      "  warnings.warn(\n"
     ]
    }
   ],
   "source": [
    "# XGBoost sem otimização de hiperparâmetros (default)\n",
    "\n",
    "if __name__ == '__main__':\n",
    "    \n",
    "    with mlflow.start_run(run_name = 'XGB_1', experiment_id = experiment.experiment_id) as run: \n",
    "        \n",
    "        # Cria o modelo\n",
    "        XGB = xgb.XGBRegressor()\n",
    "        \n",
    "        # Treina o modelo\n",
    "        XGB.fit(X_treino, y_treino)\n",
    "\n",
    "        mlflow.log_params(XGB.get_params())\n",
    "\n",
    "        # Log das métricas na base de TREINO\n",
    "        mlflow.log_metric('MSE_Treino', mean_squared_error(y_treino, XGB.predict(X_treino)))\n",
    "        mlflow.log_metric('RMSE_Treino', root_mean_squared_error(y_treino, XGB.predict(X_treino)))\n",
    "        mlflow.log_metric('MAE_Treino', mean_absolute_error(y_treino, XGB.predict(X_treino)))\n",
    "        mlflow.log_metric('R2_Treino', r2_score(y_treino, XGB.predict(X_treino)))\n",
    "\n",
    "        # Log das métricas na base de VALIDAÇÃO\n",
    "        mlflow.log_metric('MSE_Val', mean_squared_error(y_val, XGB.predict(X_val)))\n",
    "        mlflow.log_metric('RMSE_Val', root_mean_squared_error(y_val, XGB.predict(X_val)))\n",
    "        mlflow.log_metric('MAE_Val', mean_absolute_error(y_val, XGB.predict(X_val)))\n",
    "        mlflow.log_metric('R2_Val', r2_score(y_val, XGB.predict(X_val)))\n",
    "\n",
    "        signature = infer_signature(X_treino, XGB.predict(X_treino))\n",
    "        mlflow.sklearn.log_model(XGB, signature=signature, artifact_path='modelo')"
   ]
  },
  {
   "cell_type": "markdown",
   "id": "cd05ee22",
   "metadata": {},
   "source": [
    "## Com otimização dos hiperparâmetros"
   ]
  },
  {
   "cell_type": "markdown",
   "id": "401f068f",
   "metadata": {},
   "source": [
    "### Função objetivo"
   ]
  },
  {
   "cell_type": "code",
   "execution_count": 5,
   "id": "eccb5f2b",
   "metadata": {},
   "outputs": [],
   "source": [
    "# Função objetivo com validação cruzada\n",
    "# A otimização será feita considerando o comportamento médio do MSE nos folds de validação\n",
    "\n",
    "def func_objetivo_CV(parametros, modelo, folds, expr, X, y):\n",
    "    # função objetivo para \"minimizar\", mas dependendo da métrica de interesse, na realidade, é maximizar \n",
    "    # parametros é o espaço paramétrico a ser explorado\n",
    "    # expr é uma string que representa o id do experimento que foi criado\n",
    "    # modelo é uma string de qual modelo será rodado: Random Forest ou XGBoost\n",
    "    # folds é um int que diz quantos folds de validação serão usados\n",
    "    # X e y são as bases que serão aplicadas o cross-validation\n",
    "\n",
    "    # O output é o valor do score a ser minimizado/maximizado\n",
    "    \n",
    "    with mlflow.start_run(nested = True, experiment_id=expr) as run:\n",
    "\n",
    "        if modelo == 'RF':\n",
    "            reg = RandomForestRegressor(**parametros) \n",
    "            reg.fit(X, y)\n",
    "        elif modelo == 'XGB':\n",
    "            reg = xgb.XGBRegressor(**parametros)\n",
    "            reg.fit(X, y)\n",
    "        \n",
    "        score = cross_val_score(estimator = reg, X = X, y = y, cv = folds, scoring='neg_mean_squared_error').mean()\n",
    "\n",
    "        # Log de parâmetros e métricas\n",
    "\n",
    "        mlflow.log_params(reg.get_params())\n",
    "        mlflow.log_metric('Neg_MAE_cv', cross_val_score(estimator = reg, X = X, y = y, cv = folds, scoring='neg_mean_absolute_error').mean())\n",
    "        mlflow.log_metric('Neg_MSE_cv', cross_val_score(estimator = reg, X = X, y = y, cv = folds, scoring='neg_mean_squared_error').mean())\n",
    "        mlflow.log_metric('Neg_RMSE_cv', cross_val_score(estimator = reg, X = X, y = y, cv = folds, scoring='neg_root_mean_squared_error').mean())\n",
    "        mlflow.log_metric('R2_cv', cross_val_score(estimator = reg, X = X, y = y, cv = folds, scoring='r2').mean())\n",
    "        \n",
    "        signature = infer_signature(X, reg.predict(X))\n",
    "        mlflow.sklearn.log_model(reg, signature=signature, artifact_path='modelo')\n",
    "\n",
    "    return -score"
   ]
  },
  {
   "cell_type": "code",
   "execution_count": null,
   "id": "7595fdb3",
   "metadata": {},
   "outputs": [
    {
     "name": "stdout",
     "output_type": "stream",
     "text": [
      "  0%|          | 0/25 [00:00<?, ?trial/s, best loss=?]"
     ]
    },
    {
     "name": "stderr",
     "output_type": "stream",
     "text": [
      "/home/hugo/Documents/Git_GitHub/Estudo_Cobranca/vCobranca/lib/python3.12/site-packages/mlflow/types/utils.py:452: UserWarning: Hint: Inferred schema contains integer column(s). Integer columns in Python cannot represent missing values. If your input data contains missing values at inference time, it will be encoded as floats and will cause a schema enforcement error. The best way to avoid this problem is to infer the model schema based on a realistic data sample (training dataset) that includes missing values. Alternatively, you can declare integer columns as doubles (float64) whenever these columns may have missing values. See `Handling Integers With Missing Values <https://www.mlflow.org/docs/latest/models.html#handling-integers-with-missing-values>`_ for more details.\n",
      "  warnings.warn(\n",
      "\n"
     ]
    },
    {
     "name": "stdout",
     "output_type": "stream",
     "text": [
      "  4%|▍         | 1/25 [00:13<05:14, 13.12s/trial, best loss: 206642.78035474592]\n"
     ]
    },
    {
     "name": "stderr",
     "output_type": "stream",
     "text": [
      "/home/hugo/Documents/Git_GitHub/Estudo_Cobranca/vCobranca/lib/python3.12/site-packages/mlflow/types/utils.py:452: UserWarning: Hint: Inferred schema contains integer column(s). Integer columns in Python cannot represent missing values. If your input data contains missing values at inference time, it will be encoded as floats and will cause a schema enforcement error. The best way to avoid this problem is to infer the model schema based on a realistic data sample (training dataset) that includes missing values. Alternatively, you can declare integer columns as doubles (float64) whenever these columns may have missing values. See `Handling Integers With Missing Values <https://www.mlflow.org/docs/latest/models.html#handling-integers-with-missing-values>`_ for more details.\n",
      "  warnings.warn(\n"
     ]
    }
   ],
   "source": [
    "# Otimização para a Random Forest aplicada somente a uma amostra da base de treino (computacionalmente mais barato)\n",
    "\n",
    "if __name__ == '__main__':\n",
    "    \n",
    "    space = {\n",
    "        \"n_estimators\": hp.choice('n_estimators', np.arange(10, 500, dtype=int)),\n",
    "        \"max_depth\": hp.choice('max_depth', np.arange(10, 300, dtype=int)),\n",
    "        \"min_samples_leaf\": hp.choice('min_samples_leaf', np.arange(200, 500, dtype=int)),\n",
    "        \"min_samples_split\": hp.choice('min_samples_split', np.arange(200, 500, dtype=int))\n",
    "    }\n",
    "    \n",
    "    with mlflow.start_run(run_name = 'RF_CV', experiment_id=experiment.experiment_id) as run:\n",
    "        best_params = fmin(\n",
    "            fn = partial(\n",
    "                func_objetivo_CV,\n",
    "                expr = experiment.experiment_id,\n",
    "                modelo = 'RF',\n",
    "                X = X_treino[0:1000],\n",
    "                y = y_treino[0:1000],\n",
    "                folds = 3\n",
    "            ),\n",
    "            space = space,\n",
    "            algo = tpe.suggest,\n",
    "            max_evals = 25,\n",
    "            trials = Trials(),\n",
    "            timeout = 10\n",
    "        )\n",
    "       \n",
    "        # Identificado o melhor conjunto de hiperparâmetros, treina o modelo com toda a base de treino e metrifica os escores na base de validação\n",
    "\n",
    "        reg = RandomForestRegressor(**best_params)\n",
    "        reg.fit(X_treino, y_treino)\n",
    "                   \n",
    "        mlflow.log_params(reg.get_params())\n",
    "\n",
    "        # Log das métricas na base de TREINO\n",
    "        mlflow.log_metric('MSE_Treino', mean_squared_error(y_treino, reg.predict(X_treino)))\n",
    "        mlflow.log_metric('RMSE_Treino', root_mean_squared_error(y_treino, reg.predict(X_treino)))\n",
    "        mlflow.log_metric('MAE_Treino', mean_absolute_error(y_treino, reg.predict(X_treino)))\n",
    "        mlflow.log_metric('R2_Treino', r2_score(y_treino, reg.predict(X_treino)))\n",
    "\n",
    "        # Log das métricas na base de VALIDAÇÃO\n",
    "        mlflow.log_metric('MSE_Val', mean_squared_error(y_val, reg.predict(X_val)))\n",
    "        mlflow.log_metric('RMSE_Val', root_mean_squared_error(y_val, reg.predict(X_val)))\n",
    "        mlflow.log_metric('MAE_Val', mean_absolute_error(y_val, reg.predict(X_val)))\n",
    "        mlflow.log_metric('R2_Val', r2_score(y_val, reg.predict(X_val)))\n",
    "\n",
    "        signature = infer_signature(X_treino, reg.predict(X_treino))\n",
    "        mlflow.sklearn.log_model(reg, signature=signature, artifact_path='modelo')"
   ]
  },
  {
   "cell_type": "code",
   "execution_count": null,
   "id": "78a71b3f",
   "metadata": {},
   "outputs": [
    {
     "name": "stdout",
     "output_type": "stream",
     "text": [
      "  0%|          | 0/25 [00:00<?, ?trial/s, best loss=?]"
     ]
    },
    {
     "name": "stderr",
     "output_type": "stream",
     "text": [
      "/home/hugo/Documents/Git_GitHub/Estudo_Cobranca/vCobranca/lib/python3.12/site-packages/mlflow/types/utils.py:452: UserWarning: Hint: Inferred schema contains integer column(s). Integer columns in Python cannot represent missing values. If your input data contains missing values at inference time, it will be encoded as floats and will cause a schema enforcement error. The best way to avoid this problem is to infer the model schema based on a realistic data sample (training dataset) that includes missing values. Alternatively, you can declare integer columns as doubles (float64) whenever these columns may have missing values. See `Handling Integers With Missing Values <https://www.mlflow.org/docs/latest/models.html#handling-integers-with-missing-values>`_ for more details.\n",
      "  warnings.warn(\n",
      "\n"
     ]
    },
    {
     "name": "stdout",
     "output_type": "stream",
     "text": [
      "  4%|▍         | 1/25 [22:57<9:11:03, 1377.64s/trial, best loss: 696514.5101954734]\n"
     ]
    },
    {
     "name": "stderr",
     "output_type": "stream",
     "text": [
      "/home/hugo/Documents/Git_GitHub/Estudo_Cobranca/vCobranca/lib/python3.12/site-packages/mlflow/types/utils.py:452: UserWarning: Hint: Inferred schema contains integer column(s). Integer columns in Python cannot represent missing values. If your input data contains missing values at inference time, it will be encoded as floats and will cause a schema enforcement error. The best way to avoid this problem is to infer the model schema based on a realistic data sample (training dataset) that includes missing values. Alternatively, you can declare integer columns as doubles (float64) whenever these columns may have missing values. See `Handling Integers With Missing Values <https://www.mlflow.org/docs/latest/models.html#handling-integers-with-missing-values>`_ for more details.\n",
      "  warnings.warn(\n"
     ]
    }
   ],
   "source": [
    "# Otimização para o XGBoost aplicado a toda a base de treino\n",
    "\n",
    "if __name__ == '__main__':\n",
    "    \n",
    "    space = {\n",
    "        \"n_estimators\": hp.choice('n_estimators', np.arange(10, 500, dtype=int)),\n",
    "        \"max_depth\": hp.choice('max_depth', np.arange(10, 300, dtype=int)),\n",
    "        \"colsample_bytree\": hp.quniform('colsample_bytree', 0.2, 1, 0.05),\n",
    "        \"subsample\": hp.quniform('subsample', 0.2, 1, 0.05),\n",
    "        \"colsample_bynode\": hp.quniform('colsample_bynode', 0.2, 1, 0.05),\n",
    "        \"learning_rate\": hp.quniform('learning_rate', 0.0025, 0.5, 0.025)\n",
    "    }\n",
    "    \n",
    "    with mlflow.start_run(run_name = 'XGB_CV', experiment_id=experiment.experiment_id) as run:\n",
    "        best_params = fmin(\n",
    "            fn = partial(\n",
    "                func_objetivo_CV,\n",
    "                expr = experiment.experiment_id,\n",
    "                modelo = 'XGB',\n",
    "                X = X_treino,\n",
    "                y = y_treino,\n",
    "                folds = 3\n",
    "            ),\n",
    "            space = space,\n",
    "            algo = tpe.suggest,\n",
    "            max_evals = 25,\n",
    "            trials = Trials(),\n",
    "            timeout = 10\n",
    "        )\n",
    "       \n",
    "        # Identificado o melhor conjunto de hiperparâmetros, treina o modelo com toda a base de treino e metrifica os escores na base de validação\n",
    "\n",
    "        reg = xgb.XGBRegressor(**best_params)\n",
    "        reg.fit(X_treino, y_treino)\n",
    "                   \n",
    "        mlflow.log_params(reg.get_params())\n",
    "\n",
    "        # Log das métricas na base de TREINO\n",
    "        mlflow.log_metric('MSE_Treino', mean_squared_error(y_treino, reg.predict(X_treino)))\n",
    "        mlflow.log_metric('RMSE_Treino', root_mean_squared_error(y_treino, reg.predict(X_treino)))\n",
    "        mlflow.log_metric('MAE_Treino', mean_absolute_error(y_treino, reg.predict(X_treino)))\n",
    "        mlflow.log_metric('R2_Treino', r2_score(y_treino, reg.predict(X_treino)))\n",
    "\n",
    "        # Log das métricas na base de VALIDAÇÃO\n",
    "        mlflow.log_metric('MSE_Val', mean_squared_error(y_val, reg.predict(X_val)))\n",
    "        mlflow.log_metric('RMSE_Val', root_mean_squared_error(y_val, reg.predict(X_val)))\n",
    "        mlflow.log_metric('MAE_Val', mean_absolute_error(y_val, reg.predict(X_val)))\n",
    "        mlflow.log_metric('R2_Val', r2_score(y_val, reg.predict(X_val)))\n",
    "\n",
    "        signature = infer_signature(X_treino, reg.predict(X_treino))\n",
    "        mlflow.sklearn.log_model(reg, signature=signature, artifact_path='modelo')"
   ]
  },
  {
   "cell_type": "code",
   "execution_count": null,
   "id": "551ba0c8",
   "metadata": {},
   "outputs": [],
   "source": [
    "# Outra estratégia para a procura do melhor conjunto de hiperparâmetros\n",
    "\n",
    "# https://drlee.io/step-by-step-guide-bayesian-optimization-with-random-forest-fdc6f329db9c\n",
    "\n",
    "parametros = {\n",
    "    'n_estimators': (10, 250),\n",
    "    'max_depth': (1, 50),\n",
    "    'min_samples_split': (2, 25),\n",
    "    'max_features': (0.1, 0.999),\n",
    "}"
   ]
  },
  {
   "cell_type": "code",
   "execution_count": 10,
   "id": "4ce4518a",
   "metadata": {},
   "outputs": [],
   "source": [
    "def objetivo(n_estimators, max_depth, min_samples_split, max_features):\n",
    "\n",
    "    model = RandomForestRegressor(n_estimators=int(n_estimators),\n",
    "                                  max_depth=int(max_depth),\n",
    "                                  min_samples_split=int(min_samples_split),\n",
    "                                  max_features=min(max_features, 0.999),  \n",
    "                                  random_state=42)\n",
    "    \n",
    "    return cross_val_score(model, X_treino[0:20000], y_treino[0:20000], cv=3, scoring=\"neg_mean_squared_error\").mean()"
   ]
  },
  {
   "cell_type": "code",
   "execution_count": 11,
   "id": "5de3d5e4",
   "metadata": {},
   "outputs": [
    {
     "name": "stdout",
     "output_type": "stream",
     "text": [
      "|   iter    |  target   | max_depth | max_fe... | min_sa... | n_esti... |\n",
      "-------------------------------------------------------------------------\n",
      "| \u001b[39m1        \u001b[39m | \u001b[39m-1.868e+0\u001b[39m | \u001b[39m19.35    \u001b[39m | \u001b[39m0.9547   \u001b[39m | \u001b[39m18.84    \u001b[39m | \u001b[39m153.7    \u001b[39m |\n",
      "| \u001b[35m2        \u001b[39m | \u001b[35m-1.866e+0\u001b[39m | \u001b[35m8.645    \u001b[39m | \u001b[35m0.2402   \u001b[39m | \u001b[35m3.336    \u001b[39m | \u001b[35m217.9    \u001b[39m |\n",
      "| \u001b[39m3        \u001b[39m | \u001b[39m-1.876e+0\u001b[39m | \u001b[39m30.45    \u001b[39m | \u001b[39m0.7366   \u001b[39m | \u001b[39m2.473    \u001b[39m | \u001b[39m242.8    \u001b[39m |\n",
      "| \u001b[39m4        \u001b[39m | \u001b[39m-1.89e+05\u001b[39m | \u001b[39m41.79    \u001b[39m | \u001b[39m0.2909   \u001b[39m | \u001b[39m6.182    \u001b[39m | \u001b[39m54.02    \u001b[39m |\n",
      "| \u001b[39m5        \u001b[39m | \u001b[39m-1.877e+0\u001b[39m | \u001b[39m15.91    \u001b[39m | \u001b[39m0.5718   \u001b[39m | \u001b[39m11.93    \u001b[39m | \u001b[39m79.89    \u001b[39m |\n",
      "| \u001b[35m6        \u001b[39m | \u001b[35m-1.861e+0\u001b[39m | \u001b[35m9.766    \u001b[39m | \u001b[35m0.3823   \u001b[39m | \u001b[35m7.065    \u001b[39m | \u001b[35m201.0    \u001b[39m |\n",
      "| \u001b[39m7        \u001b[39m | \u001b[39m-1.888e+0\u001b[39m | \u001b[39m50.0     \u001b[39m | \u001b[39m0.1      \u001b[39m | \u001b[39m2.0      \u001b[39m | \u001b[39m185.3    \u001b[39m |\n",
      "| \u001b[39m8        \u001b[39m | \u001b[39m-1.874e+0\u001b[39m | \u001b[39m10.47    \u001b[39m | \u001b[39m0.1492   \u001b[39m | \u001b[39m6.317    \u001b[39m | \u001b[39m200.4    \u001b[39m |\n",
      "| \u001b[35m9        \u001b[39m | \u001b[35m-1.86e+05\u001b[39m | \u001b[35m9.162    \u001b[39m | \u001b[35m0.4064   \u001b[39m | \u001b[35m4.059    \u001b[39m | \u001b[35m217.9    \u001b[39m |\n",
      "| \u001b[39m10       \u001b[39m | \u001b[39m-1.863e+0\u001b[39m | \u001b[39m8.869    \u001b[39m | \u001b[39m0.8405   \u001b[39m | \u001b[39m4.506    \u001b[39m | \u001b[39m218.8    \u001b[39m |\n",
      "| \u001b[39m11       \u001b[39m | \u001b[39m-1.863e+0\u001b[39m | \u001b[39m9.21     \u001b[39m | \u001b[39m0.5192   \u001b[39m | \u001b[39m7.785    \u001b[39m | \u001b[39m202.8    \u001b[39m |\n",
      "| \u001b[39m12       \u001b[39m | \u001b[39m-1.89e+05\u001b[39m | \u001b[39m10.42    \u001b[39m | \u001b[39m0.1106   \u001b[39m | \u001b[39m4.701    \u001b[39m | \u001b[39m217.9    \u001b[39m |\n",
      "| \u001b[39m13       \u001b[39m | \u001b[39m-1.863e+0\u001b[39m | \u001b[39m9.429    \u001b[39m | \u001b[39m0.4758   \u001b[39m | \u001b[39m7.471    \u001b[39m | \u001b[39m201.8    \u001b[39m |\n",
      "| \u001b[39m14       \u001b[39m | \u001b[39m-1.863e+0\u001b[39m | \u001b[39m8.511    \u001b[39m | \u001b[39m0.9983   \u001b[39m | \u001b[39m4.988    \u001b[39m | \u001b[39m217.5    \u001b[39m |\n",
      "| \u001b[39m15       \u001b[39m | \u001b[39m-1.862e+0\u001b[39m | \u001b[39m10.52    \u001b[39m | \u001b[39m0.6984   \u001b[39m | \u001b[39m7.071    \u001b[39m | \u001b[39m203.5    \u001b[39m |\n",
      "=========================================================================\n"
     ]
    }
   ],
   "source": [
    "optimizer = BayesianOptimization(f=objetivo, pbounds=parametros, random_state=42)\n",
    "optimizer.maximize(init_points=5, n_iter=10)"
   ]
  },
  {
   "cell_type": "code",
   "execution_count": 14,
   "id": "246bb39d",
   "metadata": {},
   "outputs": [
    {
     "data": {
      "text/plain": [
       "{'max_depth': np.float64(9.161877360336057),\n",
       " 'max_features': np.float64(0.40643195882749794),\n",
       " 'min_samples_split': np.float64(4.058762190729727),\n",
       " 'n_estimators': np.float64(217.89989410048233)}"
      ]
     },
     "execution_count": 14,
     "metadata": {},
     "output_type": "execute_result"
    }
   ],
   "source": [
    "best_params = optimizer.max['params']\n",
    "best_params"
   ]
  },
  {
   "cell_type": "code",
   "execution_count": 15,
   "id": "6564d3e9",
   "metadata": {},
   "outputs": [
    {
     "data": {
      "text/html": [
       "<style>#sk-container-id-1 {\n",
       "  /* Definition of color scheme common for light and dark mode */\n",
       "  --sklearn-color-text: #000;\n",
       "  --sklearn-color-text-muted: #666;\n",
       "  --sklearn-color-line: gray;\n",
       "  /* Definition of color scheme for unfitted estimators */\n",
       "  --sklearn-color-unfitted-level-0: #fff5e6;\n",
       "  --sklearn-color-unfitted-level-1: #f6e4d2;\n",
       "  --sklearn-color-unfitted-level-2: #ffe0b3;\n",
       "  --sklearn-color-unfitted-level-3: chocolate;\n",
       "  /* Definition of color scheme for fitted estimators */\n",
       "  --sklearn-color-fitted-level-0: #f0f8ff;\n",
       "  --sklearn-color-fitted-level-1: #d4ebff;\n",
       "  --sklearn-color-fitted-level-2: #b3dbfd;\n",
       "  --sklearn-color-fitted-level-3: cornflowerblue;\n",
       "\n",
       "  /* Specific color for light theme */\n",
       "  --sklearn-color-text-on-default-background: var(--sg-text-color, var(--theme-code-foreground, var(--jp-content-font-color1, black)));\n",
       "  --sklearn-color-background: var(--sg-background-color, var(--theme-background, var(--jp-layout-color0, white)));\n",
       "  --sklearn-color-border-box: var(--sg-text-color, var(--theme-code-foreground, var(--jp-content-font-color1, black)));\n",
       "  --sklearn-color-icon: #696969;\n",
       "\n",
       "  @media (prefers-color-scheme: dark) {\n",
       "    /* Redefinition of color scheme for dark theme */\n",
       "    --sklearn-color-text-on-default-background: var(--sg-text-color, var(--theme-code-foreground, var(--jp-content-font-color1, white)));\n",
       "    --sklearn-color-background: var(--sg-background-color, var(--theme-background, var(--jp-layout-color0, #111)));\n",
       "    --sklearn-color-border-box: var(--sg-text-color, var(--theme-code-foreground, var(--jp-content-font-color1, white)));\n",
       "    --sklearn-color-icon: #878787;\n",
       "  }\n",
       "}\n",
       "\n",
       "#sk-container-id-1 {\n",
       "  color: var(--sklearn-color-text);\n",
       "}\n",
       "\n",
       "#sk-container-id-1 pre {\n",
       "  padding: 0;\n",
       "}\n",
       "\n",
       "#sk-container-id-1 input.sk-hidden--visually {\n",
       "  border: 0;\n",
       "  clip: rect(1px 1px 1px 1px);\n",
       "  clip: rect(1px, 1px, 1px, 1px);\n",
       "  height: 1px;\n",
       "  margin: -1px;\n",
       "  overflow: hidden;\n",
       "  padding: 0;\n",
       "  position: absolute;\n",
       "  width: 1px;\n",
       "}\n",
       "\n",
       "#sk-container-id-1 div.sk-dashed-wrapped {\n",
       "  border: 1px dashed var(--sklearn-color-line);\n",
       "  margin: 0 0.4em 0.5em 0.4em;\n",
       "  box-sizing: border-box;\n",
       "  padding-bottom: 0.4em;\n",
       "  background-color: var(--sklearn-color-background);\n",
       "}\n",
       "\n",
       "#sk-container-id-1 div.sk-container {\n",
       "  /* jupyter's `normalize.less` sets `[hidden] { display: none; }`\n",
       "     but bootstrap.min.css set `[hidden] { display: none !important; }`\n",
       "     so we also need the `!important` here to be able to override the\n",
       "     default hidden behavior on the sphinx rendered scikit-learn.org.\n",
       "     See: https://github.com/scikit-learn/scikit-learn/issues/21755 */\n",
       "  display: inline-block !important;\n",
       "  position: relative;\n",
       "}\n",
       "\n",
       "#sk-container-id-1 div.sk-text-repr-fallback {\n",
       "  display: none;\n",
       "}\n",
       "\n",
       "div.sk-parallel-item,\n",
       "div.sk-serial,\n",
       "div.sk-item {\n",
       "  /* draw centered vertical line to link estimators */\n",
       "  background-image: linear-gradient(var(--sklearn-color-text-on-default-background), var(--sklearn-color-text-on-default-background));\n",
       "  background-size: 2px 100%;\n",
       "  background-repeat: no-repeat;\n",
       "  background-position: center center;\n",
       "}\n",
       "\n",
       "/* Parallel-specific style estimator block */\n",
       "\n",
       "#sk-container-id-1 div.sk-parallel-item::after {\n",
       "  content: \"\";\n",
       "  width: 100%;\n",
       "  border-bottom: 2px solid var(--sklearn-color-text-on-default-background);\n",
       "  flex-grow: 1;\n",
       "}\n",
       "\n",
       "#sk-container-id-1 div.sk-parallel {\n",
       "  display: flex;\n",
       "  align-items: stretch;\n",
       "  justify-content: center;\n",
       "  background-color: var(--sklearn-color-background);\n",
       "  position: relative;\n",
       "}\n",
       "\n",
       "#sk-container-id-1 div.sk-parallel-item {\n",
       "  display: flex;\n",
       "  flex-direction: column;\n",
       "}\n",
       "\n",
       "#sk-container-id-1 div.sk-parallel-item:first-child::after {\n",
       "  align-self: flex-end;\n",
       "  width: 50%;\n",
       "}\n",
       "\n",
       "#sk-container-id-1 div.sk-parallel-item:last-child::after {\n",
       "  align-self: flex-start;\n",
       "  width: 50%;\n",
       "}\n",
       "\n",
       "#sk-container-id-1 div.sk-parallel-item:only-child::after {\n",
       "  width: 0;\n",
       "}\n",
       "\n",
       "/* Serial-specific style estimator block */\n",
       "\n",
       "#sk-container-id-1 div.sk-serial {\n",
       "  display: flex;\n",
       "  flex-direction: column;\n",
       "  align-items: center;\n",
       "  background-color: var(--sklearn-color-background);\n",
       "  padding-right: 1em;\n",
       "  padding-left: 1em;\n",
       "}\n",
       "\n",
       "\n",
       "/* Toggleable style: style used for estimator/Pipeline/ColumnTransformer box that is\n",
       "clickable and can be expanded/collapsed.\n",
       "- Pipeline and ColumnTransformer use this feature and define the default style\n",
       "- Estimators will overwrite some part of the style using the `sk-estimator` class\n",
       "*/\n",
       "\n",
       "/* Pipeline and ColumnTransformer style (default) */\n",
       "\n",
       "#sk-container-id-1 div.sk-toggleable {\n",
       "  /* Default theme specific background. It is overwritten whether we have a\n",
       "  specific estimator or a Pipeline/ColumnTransformer */\n",
       "  background-color: var(--sklearn-color-background);\n",
       "}\n",
       "\n",
       "/* Toggleable label */\n",
       "#sk-container-id-1 label.sk-toggleable__label {\n",
       "  cursor: pointer;\n",
       "  display: flex;\n",
       "  width: 100%;\n",
       "  margin-bottom: 0;\n",
       "  padding: 0.5em;\n",
       "  box-sizing: border-box;\n",
       "  text-align: center;\n",
       "  align-items: start;\n",
       "  justify-content: space-between;\n",
       "  gap: 0.5em;\n",
       "}\n",
       "\n",
       "#sk-container-id-1 label.sk-toggleable__label .caption {\n",
       "  font-size: 0.6rem;\n",
       "  font-weight: lighter;\n",
       "  color: var(--sklearn-color-text-muted);\n",
       "}\n",
       "\n",
       "#sk-container-id-1 label.sk-toggleable__label-arrow:before {\n",
       "  /* Arrow on the left of the label */\n",
       "  content: \"▸\";\n",
       "  float: left;\n",
       "  margin-right: 0.25em;\n",
       "  color: var(--sklearn-color-icon);\n",
       "}\n",
       "\n",
       "#sk-container-id-1 label.sk-toggleable__label-arrow:hover:before {\n",
       "  color: var(--sklearn-color-text);\n",
       "}\n",
       "\n",
       "/* Toggleable content - dropdown */\n",
       "\n",
       "#sk-container-id-1 div.sk-toggleable__content {\n",
       "  max-height: 0;\n",
       "  max-width: 0;\n",
       "  overflow: hidden;\n",
       "  text-align: left;\n",
       "  /* unfitted */\n",
       "  background-color: var(--sklearn-color-unfitted-level-0);\n",
       "}\n",
       "\n",
       "#sk-container-id-1 div.sk-toggleable__content.fitted {\n",
       "  /* fitted */\n",
       "  background-color: var(--sklearn-color-fitted-level-0);\n",
       "}\n",
       "\n",
       "#sk-container-id-1 div.sk-toggleable__content pre {\n",
       "  margin: 0.2em;\n",
       "  border-radius: 0.25em;\n",
       "  color: var(--sklearn-color-text);\n",
       "  /* unfitted */\n",
       "  background-color: var(--sklearn-color-unfitted-level-0);\n",
       "}\n",
       "\n",
       "#sk-container-id-1 div.sk-toggleable__content.fitted pre {\n",
       "  /* unfitted */\n",
       "  background-color: var(--sklearn-color-fitted-level-0);\n",
       "}\n",
       "\n",
       "#sk-container-id-1 input.sk-toggleable__control:checked~div.sk-toggleable__content {\n",
       "  /* Expand drop-down */\n",
       "  max-height: 200px;\n",
       "  max-width: 100%;\n",
       "  overflow: auto;\n",
       "}\n",
       "\n",
       "#sk-container-id-1 input.sk-toggleable__control:checked~label.sk-toggleable__label-arrow:before {\n",
       "  content: \"▾\";\n",
       "}\n",
       "\n",
       "/* Pipeline/ColumnTransformer-specific style */\n",
       "\n",
       "#sk-container-id-1 div.sk-label input.sk-toggleable__control:checked~label.sk-toggleable__label {\n",
       "  color: var(--sklearn-color-text);\n",
       "  background-color: var(--sklearn-color-unfitted-level-2);\n",
       "}\n",
       "\n",
       "#sk-container-id-1 div.sk-label.fitted input.sk-toggleable__control:checked~label.sk-toggleable__label {\n",
       "  background-color: var(--sklearn-color-fitted-level-2);\n",
       "}\n",
       "\n",
       "/* Estimator-specific style */\n",
       "\n",
       "/* Colorize estimator box */\n",
       "#sk-container-id-1 div.sk-estimator input.sk-toggleable__control:checked~label.sk-toggleable__label {\n",
       "  /* unfitted */\n",
       "  background-color: var(--sklearn-color-unfitted-level-2);\n",
       "}\n",
       "\n",
       "#sk-container-id-1 div.sk-estimator.fitted input.sk-toggleable__control:checked~label.sk-toggleable__label {\n",
       "  /* fitted */\n",
       "  background-color: var(--sklearn-color-fitted-level-2);\n",
       "}\n",
       "\n",
       "#sk-container-id-1 div.sk-label label.sk-toggleable__label,\n",
       "#sk-container-id-1 div.sk-label label {\n",
       "  /* The background is the default theme color */\n",
       "  color: var(--sklearn-color-text-on-default-background);\n",
       "}\n",
       "\n",
       "/* On hover, darken the color of the background */\n",
       "#sk-container-id-1 div.sk-label:hover label.sk-toggleable__label {\n",
       "  color: var(--sklearn-color-text);\n",
       "  background-color: var(--sklearn-color-unfitted-level-2);\n",
       "}\n",
       "\n",
       "/* Label box, darken color on hover, fitted */\n",
       "#sk-container-id-1 div.sk-label.fitted:hover label.sk-toggleable__label.fitted {\n",
       "  color: var(--sklearn-color-text);\n",
       "  background-color: var(--sklearn-color-fitted-level-2);\n",
       "}\n",
       "\n",
       "/* Estimator label */\n",
       "\n",
       "#sk-container-id-1 div.sk-label label {\n",
       "  font-family: monospace;\n",
       "  font-weight: bold;\n",
       "  display: inline-block;\n",
       "  line-height: 1.2em;\n",
       "}\n",
       "\n",
       "#sk-container-id-1 div.sk-label-container {\n",
       "  text-align: center;\n",
       "}\n",
       "\n",
       "/* Estimator-specific */\n",
       "#sk-container-id-1 div.sk-estimator {\n",
       "  font-family: monospace;\n",
       "  border: 1px dotted var(--sklearn-color-border-box);\n",
       "  border-radius: 0.25em;\n",
       "  box-sizing: border-box;\n",
       "  margin-bottom: 0.5em;\n",
       "  /* unfitted */\n",
       "  background-color: var(--sklearn-color-unfitted-level-0);\n",
       "}\n",
       "\n",
       "#sk-container-id-1 div.sk-estimator.fitted {\n",
       "  /* fitted */\n",
       "  background-color: var(--sklearn-color-fitted-level-0);\n",
       "}\n",
       "\n",
       "/* on hover */\n",
       "#sk-container-id-1 div.sk-estimator:hover {\n",
       "  /* unfitted */\n",
       "  background-color: var(--sklearn-color-unfitted-level-2);\n",
       "}\n",
       "\n",
       "#sk-container-id-1 div.sk-estimator.fitted:hover {\n",
       "  /* fitted */\n",
       "  background-color: var(--sklearn-color-fitted-level-2);\n",
       "}\n",
       "\n",
       "/* Specification for estimator info (e.g. \"i\" and \"?\") */\n",
       "\n",
       "/* Common style for \"i\" and \"?\" */\n",
       "\n",
       ".sk-estimator-doc-link,\n",
       "a:link.sk-estimator-doc-link,\n",
       "a:visited.sk-estimator-doc-link {\n",
       "  float: right;\n",
       "  font-size: smaller;\n",
       "  line-height: 1em;\n",
       "  font-family: monospace;\n",
       "  background-color: var(--sklearn-color-background);\n",
       "  border-radius: 1em;\n",
       "  height: 1em;\n",
       "  width: 1em;\n",
       "  text-decoration: none !important;\n",
       "  margin-left: 0.5em;\n",
       "  text-align: center;\n",
       "  /* unfitted */\n",
       "  border: var(--sklearn-color-unfitted-level-1) 1pt solid;\n",
       "  color: var(--sklearn-color-unfitted-level-1);\n",
       "}\n",
       "\n",
       ".sk-estimator-doc-link.fitted,\n",
       "a:link.sk-estimator-doc-link.fitted,\n",
       "a:visited.sk-estimator-doc-link.fitted {\n",
       "  /* fitted */\n",
       "  border: var(--sklearn-color-fitted-level-1) 1pt solid;\n",
       "  color: var(--sklearn-color-fitted-level-1);\n",
       "}\n",
       "\n",
       "/* On hover */\n",
       "div.sk-estimator:hover .sk-estimator-doc-link:hover,\n",
       ".sk-estimator-doc-link:hover,\n",
       "div.sk-label-container:hover .sk-estimator-doc-link:hover,\n",
       ".sk-estimator-doc-link:hover {\n",
       "  /* unfitted */\n",
       "  background-color: var(--sklearn-color-unfitted-level-3);\n",
       "  color: var(--sklearn-color-background);\n",
       "  text-decoration: none;\n",
       "}\n",
       "\n",
       "div.sk-estimator.fitted:hover .sk-estimator-doc-link.fitted:hover,\n",
       ".sk-estimator-doc-link.fitted:hover,\n",
       "div.sk-label-container:hover .sk-estimator-doc-link.fitted:hover,\n",
       ".sk-estimator-doc-link.fitted:hover {\n",
       "  /* fitted */\n",
       "  background-color: var(--sklearn-color-fitted-level-3);\n",
       "  color: var(--sklearn-color-background);\n",
       "  text-decoration: none;\n",
       "}\n",
       "\n",
       "/* Span, style for the box shown on hovering the info icon */\n",
       ".sk-estimator-doc-link span {\n",
       "  display: none;\n",
       "  z-index: 9999;\n",
       "  position: relative;\n",
       "  font-weight: normal;\n",
       "  right: .2ex;\n",
       "  padding: .5ex;\n",
       "  margin: .5ex;\n",
       "  width: min-content;\n",
       "  min-width: 20ex;\n",
       "  max-width: 50ex;\n",
       "  color: var(--sklearn-color-text);\n",
       "  box-shadow: 2pt 2pt 4pt #999;\n",
       "  /* unfitted */\n",
       "  background: var(--sklearn-color-unfitted-level-0);\n",
       "  border: .5pt solid var(--sklearn-color-unfitted-level-3);\n",
       "}\n",
       "\n",
       ".sk-estimator-doc-link.fitted span {\n",
       "  /* fitted */\n",
       "  background: var(--sklearn-color-fitted-level-0);\n",
       "  border: var(--sklearn-color-fitted-level-3);\n",
       "}\n",
       "\n",
       ".sk-estimator-doc-link:hover span {\n",
       "  display: block;\n",
       "}\n",
       "\n",
       "/* \"?\"-specific style due to the `<a>` HTML tag */\n",
       "\n",
       "#sk-container-id-1 a.estimator_doc_link {\n",
       "  float: right;\n",
       "  font-size: 1rem;\n",
       "  line-height: 1em;\n",
       "  font-family: monospace;\n",
       "  background-color: var(--sklearn-color-background);\n",
       "  border-radius: 1rem;\n",
       "  height: 1rem;\n",
       "  width: 1rem;\n",
       "  text-decoration: none;\n",
       "  /* unfitted */\n",
       "  color: var(--sklearn-color-unfitted-level-1);\n",
       "  border: var(--sklearn-color-unfitted-level-1) 1pt solid;\n",
       "}\n",
       "\n",
       "#sk-container-id-1 a.estimator_doc_link.fitted {\n",
       "  /* fitted */\n",
       "  border: var(--sklearn-color-fitted-level-1) 1pt solid;\n",
       "  color: var(--sklearn-color-fitted-level-1);\n",
       "}\n",
       "\n",
       "/* On hover */\n",
       "#sk-container-id-1 a.estimator_doc_link:hover {\n",
       "  /* unfitted */\n",
       "  background-color: var(--sklearn-color-unfitted-level-3);\n",
       "  color: var(--sklearn-color-background);\n",
       "  text-decoration: none;\n",
       "}\n",
       "\n",
       "#sk-container-id-1 a.estimator_doc_link.fitted:hover {\n",
       "  /* fitted */\n",
       "  background-color: var(--sklearn-color-fitted-level-3);\n",
       "}\n",
       "</style><div id=\"sk-container-id-1\" class=\"sk-top-container\"><div class=\"sk-text-repr-fallback\"><pre>RandomForestRegressor(max_depth=9, max_features=np.float64(0.40643195882749794),\n",
       "                      min_samples_split=4, n_estimators=217, random_state=42)</pre><b>In a Jupyter environment, please rerun this cell to show the HTML representation or trust the notebook. <br />On GitHub, the HTML representation is unable to render, please try loading this page with nbviewer.org.</b></div><div class=\"sk-container\" hidden><div class=\"sk-item\"><div class=\"sk-estimator fitted sk-toggleable\"><input class=\"sk-toggleable__control sk-hidden--visually\" id=\"sk-estimator-id-1\" type=\"checkbox\" checked><label for=\"sk-estimator-id-1\" class=\"sk-toggleable__label fitted sk-toggleable__label-arrow\"><div><div>RandomForestRegressor</div></div><div><a class=\"sk-estimator-doc-link fitted\" rel=\"noreferrer\" target=\"_blank\" href=\"https://scikit-learn.org/1.6/modules/generated/sklearn.ensemble.RandomForestRegressor.html\">?<span>Documentation for RandomForestRegressor</span></a><span class=\"sk-estimator-doc-link fitted\">i<span>Fitted</span></span></div></label><div class=\"sk-toggleable__content fitted\"><pre>RandomForestRegressor(max_depth=9, max_features=np.float64(0.40643195882749794),\n",
       "                      min_samples_split=4, n_estimators=217, random_state=42)</pre></div> </div></div></div></div>"
      ],
      "text/plain": [
       "RandomForestRegressor(max_depth=9, max_features=np.float64(0.40643195882749794),\n",
       "                      min_samples_split=4, n_estimators=217, random_state=42)"
      ]
     },
     "execution_count": 15,
     "metadata": {},
     "output_type": "execute_result"
    }
   ],
   "source": [
    "modelo_final = RandomForestRegressor(n_estimators=int(best_params['n_estimators']),\n",
    "                                    max_depth=int(best_params['max_depth']),\n",
    "                                    min_samples_split=int(best_params['min_samples_split']),\n",
    "                                    max_features=best_params['max_features'],\n",
    "                                    random_state=42)\n",
    "modelo_final.fit(X_treino, y_treino)"
   ]
  },
  {
   "cell_type": "code",
   "execution_count": 16,
   "id": "a287d4d6",
   "metadata": {},
   "outputs": [
    {
     "data": {
      "text/plain": [
       "(498521.2626987858, 706.060381765459, 499.8298225015349, 0.13795983492655395)"
      ]
     },
     "execution_count": 16,
     "metadata": {},
     "output_type": "execute_result"
    }
   ],
   "source": [
    "mean_squared_error(y_treino, modelo_final.predict(X_treino)), root_mean_squared_error(y_treino, modelo_final.predict(X_treino)), mean_absolute_error(y_treino, modelo_final.predict(X_treino)), r2_score(y_treino, modelo_final.predict(X_treino))"
   ]
  },
  {
   "cell_type": "code",
   "execution_count": 17,
   "id": "75351a4e",
   "metadata": {},
   "outputs": [
    {
     "data": {
      "text/plain": [
       "(538044.434338212, 733.5151220923888, 507.8611446864369, 0.07301270442652541)"
      ]
     },
     "execution_count": 17,
     "metadata": {},
     "output_type": "execute_result"
    }
   ],
   "source": [
    "mean_squared_error(y_val, modelo_final.predict(X_val)), root_mean_squared_error(y_val, modelo_final.predict(X_val)), mean_absolute_error(y_val, modelo_final.predict(X_val)), r2_score(y_val, modelo_final.predict(X_val))"
   ]
  },
  {
   "cell_type": "code",
   "execution_count": 18,
   "id": "01eb3b22",
   "metadata": {},
   "outputs": [
    {
     "name": "stderr",
     "output_type": "stream",
     "text": [
      "/home/hugo/Documents/Git_GitHub/Estudo_Cobranca/vCobranca/lib/python3.12/site-packages/mlflow/types/utils.py:452: UserWarning: Hint: Inferred schema contains integer column(s). Integer columns in Python cannot represent missing values. If your input data contains missing values at inference time, it will be encoded as floats and will cause a schema enforcement error. The best way to avoid this problem is to infer the model schema based on a realistic data sample (training dataset) that includes missing values. Alternatively, you can declare integer columns as doubles (float64) whenever these columns may have missing values. See `Handling Integers With Missing Values <https://www.mlflow.org/docs/latest/models.html#handling-integers-with-missing-values>`_ for more details.\n",
      "  warnings.warn(\n"
     ]
    }
   ],
   "source": [
    "# Registra o modelo no MLflow\n",
    "\n",
    "if __name__ == '__main__':\n",
    "    \n",
    "    with mlflow.start_run(run_name = 'RF_2', experiment_id = experiment.experiment_id) as run: \n",
    "        \n",
    "        mlflow.log_params(modelo_final.get_params())\n",
    "\n",
    "        # Log das métricas na base de TREINO\n",
    "        mlflow.log_metric('MSE_Treino', mean_squared_error(y_treino, modelo_final.predict(X_treino)))\n",
    "        mlflow.log_metric('RMSE_Treino', root_mean_squared_error(y_treino, modelo_final.predict(X_treino)))\n",
    "        mlflow.log_metric('MAE_Treino', mean_absolute_error(y_treino, modelo_final.predict(X_treino)))\n",
    "        mlflow.log_metric('R2_Treino', r2_score(y_treino, modelo_final.predict(X_treino)))\n",
    "\n",
    "        # Log das métricas na base de VALIDAÇÃO\n",
    "        mlflow.log_metric('MSE_Val', mean_squared_error(y_val, modelo_final.predict(X_val)))\n",
    "        mlflow.log_metric('RMSE_Val', root_mean_squared_error(y_val, modelo_final.predict(X_val)))\n",
    "        mlflow.log_metric('MAE_Val', mean_absolute_error(y_val, modelo_final.predict(X_val)))\n",
    "        mlflow.log_metric('R2_Val', r2_score(y_val, modelo_final.predict(X_val)))\n",
    "\n",
    "        signature = infer_signature(X_treino, modelo_final.predict(X_treino))\n",
    "        mlflow.sklearn.log_model(modelo_final, signature=signature, artifact_path='modelo')"
   ]
  },
  {
   "cell_type": "markdown",
   "id": "23622056",
   "metadata": {},
   "source": [
    "# Conclusão\n",
    "\n",
    "- Foram testadas duas famílias de modelos RandomForest e XGBoost, com e sem aplicação de tuning de hiperparâmetros;\n",
    "\n",
    "- Depois de comparar as métricas na base de validação, optou-se por usar a RandomForest com a primeira opção de search de hiperparâmetros (uso do hyperopt)."
   ]
  }
 ],
 "metadata": {
  "kernelspec": {
   "display_name": "vCobranca",
   "language": "python",
   "name": "python3"
  },
  "language_info": {
   "codemirror_mode": {
    "name": "ipython",
    "version": 3
   },
   "file_extension": ".py",
   "mimetype": "text/x-python",
   "name": "python",
   "nbconvert_exporter": "python",
   "pygments_lexer": "ipython3",
   "version": "3.12.3"
  }
 },
 "nbformat": 4,
 "nbformat_minor": 5
}
