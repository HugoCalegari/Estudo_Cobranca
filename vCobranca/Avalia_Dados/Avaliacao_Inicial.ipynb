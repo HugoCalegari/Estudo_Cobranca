{
 "cells": [
  {
   "cell_type": "markdown",
   "id": "0961269f",
   "metadata": {},
   "source": [
    "# Objetivo\n",
    "\n",
    "Realizar uma varredura dos dados disponíveis e separação dos dados em treino, validação e teste (OOT)."
   ]
  },
  {
   "cell_type": "markdown",
   "id": "ce53a194",
   "metadata": {},
   "source": [
    "# Pacotes"
   ]
  },
  {
   "cell_type": "code",
   "execution_count": 1,
   "id": "a878e58b",
   "metadata": {},
   "outputs": [],
   "source": [
    "import os \n",
    "import gzip\n",
    "import pandas as pd\n",
    "import numpy as np\n",
    "import matplotlib.pyplot as plt"
   ]
  },
  {
   "cell_type": "markdown",
   "id": "6a0c5a5b",
   "metadata": {},
   "source": [
    "# Leitura dos dados"
   ]
  },
  {
   "cell_type": "code",
   "execution_count": 2,
   "id": "9bb8b75d",
   "metadata": {},
   "outputs": [
    {
     "name": "stderr",
     "output_type": "stream",
     "text": [
      "/tmp/ipykernel_19569/3464544722.py:2: DtypeWarning: Columns (12,50) have mixed types. Specify dtype option on import or set low_memory=False.\n",
      "  dados = pd.read_csv(base, sep = '\\t')\n"
     ]
    },
    {
     "data": {
      "text/html": [
       "<div>\n",
       "<style scoped>\n",
       "    .dataframe tbody tr th:only-of-type {\n",
       "        vertical-align: middle;\n",
       "    }\n",
       "\n",
       "    .dataframe tbody tr th {\n",
       "        vertical-align: top;\n",
       "    }\n",
       "\n",
       "    .dataframe thead th {\n",
       "        text-align: right;\n",
       "    }\n",
       "</style>\n",
       "<table border=\"1\" class=\"dataframe\">\n",
       "  <thead>\n",
       "    <tr style=\"text-align: right;\">\n",
       "      <th></th>\n",
       "      <th>id</th>\n",
       "      <th>documento</th>\n",
       "      <th>mes_pagamento</th>\n",
       "      <th>dias_atraso</th>\n",
       "      <th>segmento_veiculo</th>\n",
       "      <th>saldo_vencido</th>\n",
       "      <th>pagamento</th>\n",
       "      <th>divida_restante</th>\n",
       "      <th>per_pago</th>\n",
       "      <th>GENERO</th>\n",
       "      <th>...</th>\n",
       "      <th>VAR_306</th>\n",
       "      <th>VAR_307</th>\n",
       "      <th>VAR_308</th>\n",
       "      <th>VAR_309</th>\n",
       "      <th>VAR_310</th>\n",
       "      <th>VAR_311</th>\n",
       "      <th>VAR_312</th>\n",
       "      <th>VAR_313</th>\n",
       "      <th>VAR_314</th>\n",
       "      <th>VAR_315</th>\n",
       "    </tr>\n",
       "  </thead>\n",
       "  <tbody>\n",
       "    <tr>\n",
       "      <th>0</th>\n",
       "      <td>0x117651</td>\n",
       "      <td>0x722945</td>\n",
       "      <td>202301</td>\n",
       "      <td>18</td>\n",
       "      <td>leves</td>\n",
       "      <td>1445.37</td>\n",
       "      <td>0.00</td>\n",
       "      <td>1445.37</td>\n",
       "      <td>0.0</td>\n",
       "      <td>NaN</td>\n",
       "      <td>...</td>\n",
       "      <td>NaN</td>\n",
       "      <td>NaN</td>\n",
       "      <td>NaN</td>\n",
       "      <td>NaN</td>\n",
       "      <td>NaN</td>\n",
       "      <td>NaN</td>\n",
       "      <td>NaN</td>\n",
       "      <td>NaN</td>\n",
       "      <td>NaN</td>\n",
       "      <td>NaN</td>\n",
       "    </tr>\n",
       "    <tr>\n",
       "      <th>1</th>\n",
       "      <td>0x80136d</td>\n",
       "      <td>0x7fa1e8</td>\n",
       "      <td>202301</td>\n",
       "      <td>28</td>\n",
       "      <td>motos</td>\n",
       "      <td>426.84</td>\n",
       "      <td>426.84</td>\n",
       "      <td>0.00</td>\n",
       "      <td>1.0</td>\n",
       "      <td>NaN</td>\n",
       "      <td>...</td>\n",
       "      <td>NaN</td>\n",
       "      <td>NaN</td>\n",
       "      <td>NaN</td>\n",
       "      <td>NaN</td>\n",
       "      <td>NaN</td>\n",
       "      <td>NaN</td>\n",
       "      <td>NaN</td>\n",
       "      <td>NaN</td>\n",
       "      <td>NaN</td>\n",
       "      <td>NaN</td>\n",
       "    </tr>\n",
       "    <tr>\n",
       "      <th>2</th>\n",
       "      <td>0x839c27</td>\n",
       "      <td>0x724e31</td>\n",
       "      <td>202301</td>\n",
       "      <td>30</td>\n",
       "      <td>leves</td>\n",
       "      <td>1381.98</td>\n",
       "      <td>1381.98</td>\n",
       "      <td>0.00</td>\n",
       "      <td>1.0</td>\n",
       "      <td>NaN</td>\n",
       "      <td>...</td>\n",
       "      <td>NaN</td>\n",
       "      <td>NaN</td>\n",
       "      <td>NaN</td>\n",
       "      <td>NaN</td>\n",
       "      <td>NaN</td>\n",
       "      <td>NaN</td>\n",
       "      <td>NaN</td>\n",
       "      <td>NaN</td>\n",
       "      <td>NaN</td>\n",
       "      <td>NaN</td>\n",
       "    </tr>\n",
       "    <tr>\n",
       "      <th>3</th>\n",
       "      <td>0x7675af</td>\n",
       "      <td>0x827ea9</td>\n",
       "      <td>202210</td>\n",
       "      <td>22</td>\n",
       "      <td>leves</td>\n",
       "      <td>1299.22</td>\n",
       "      <td>1299.22</td>\n",
       "      <td>0.00</td>\n",
       "      <td>1.0</td>\n",
       "      <td>M</td>\n",
       "      <td>...</td>\n",
       "      <td>PROXIMO</td>\n",
       "      <td>MUITO LONGE</td>\n",
       "      <td>MUITO LONGE</td>\n",
       "      <td>0.0</td>\n",
       "      <td>1.0</td>\n",
       "      <td>RURAL</td>\n",
       "      <td>CENTRO-OESTE</td>\n",
       "      <td>NaN</td>\n",
       "      <td>D</td>\n",
       "      <td>NaN</td>\n",
       "    </tr>\n",
       "    <tr>\n",
       "      <th>4</th>\n",
       "      <td>0x52fa00</td>\n",
       "      <td>0x2772b2</td>\n",
       "      <td>202210</td>\n",
       "      <td>17</td>\n",
       "      <td>motos</td>\n",
       "      <td>493.42</td>\n",
       "      <td>0.00</td>\n",
       "      <td>493.42</td>\n",
       "      <td>0.0</td>\n",
       "      <td>F</td>\n",
       "      <td>...</td>\n",
       "      <td>MEDIO</td>\n",
       "      <td>PROXIMO</td>\n",
       "      <td>PROXIMO</td>\n",
       "      <td>1.0</td>\n",
       "      <td>1.0</td>\n",
       "      <td>URBANO</td>\n",
       "      <td>NORDESTE</td>\n",
       "      <td>0.0</td>\n",
       "      <td>B</td>\n",
       "      <td>1.0</td>\n",
       "    </tr>\n",
       "  </tbody>\n",
       "</table>\n",
       "<p>5 rows × 328 columns</p>\n",
       "</div>"
      ],
      "text/plain": [
       "         id documento  mes_pagamento  dias_atraso segmento_veiculo  \\\n",
       "0  0x117651  0x722945         202301           18            leves   \n",
       "1  0x80136d  0x7fa1e8         202301           28            motos   \n",
       "2  0x839c27  0x724e31         202301           30            leves   \n",
       "3  0x7675af  0x827ea9         202210           22            leves   \n",
       "4  0x52fa00  0x2772b2         202210           17            motos   \n",
       "\n",
       "   saldo_vencido  pagamento  divida_restante  per_pago GENERO  ...  VAR_306  \\\n",
       "0        1445.37       0.00          1445.37       0.0    NaN  ...      NaN   \n",
       "1         426.84     426.84             0.00       1.0    NaN  ...      NaN   \n",
       "2        1381.98    1381.98             0.00       1.0    NaN  ...      NaN   \n",
       "3        1299.22    1299.22             0.00       1.0      M  ...  PROXIMO   \n",
       "4         493.42       0.00           493.42       0.0      F  ...    MEDIO   \n",
       "\n",
       "       VAR_307      VAR_308 VAR_309 VAR_310 VAR_311       VAR_312  VAR_313  \\\n",
       "0          NaN          NaN     NaN     NaN     NaN           NaN      NaN   \n",
       "1          NaN          NaN     NaN     NaN     NaN           NaN      NaN   \n",
       "2          NaN          NaN     NaN     NaN     NaN           NaN      NaN   \n",
       "3  MUITO LONGE  MUITO LONGE     0.0     1.0   RURAL  CENTRO-OESTE      NaN   \n",
       "4      PROXIMO      PROXIMO     1.0     1.0  URBANO      NORDESTE      0.0   \n",
       "\n",
       "   VAR_314  VAR_315  \n",
       "0      NaN      NaN  \n",
       "1      NaN      NaN  \n",
       "2      NaN      NaN  \n",
       "3        D      NaN  \n",
       "4        B      1.0  \n",
       "\n",
       "[5 rows x 328 columns]"
      ]
     },
     "execution_count": 2,
     "metadata": {},
     "output_type": "execute_result"
    }
   ],
   "source": [
    "base = gzip.open('/home/hugo/Documents/Git_GitHub/Estudo_Cobranca/Dados/base_cobranca.gz', 'rt')\n",
    "dados = pd.read_csv(base, sep = '\\t')\n",
    "dados.head()"
   ]
  },
  {
   "cell_type": "markdown",
   "id": "a7ae0bbb",
   "metadata": {},
   "source": [
    "## Análises iniciais"
   ]
  },
  {
   "cell_type": "code",
   "execution_count": 4,
   "id": "a79efd82",
   "metadata": {},
   "outputs": [
    {
     "data": {
      "text/plain": [
       "np.int64(0)"
      ]
     },
     "execution_count": 4,
     "metadata": {},
     "output_type": "execute_result"
    }
   ],
   "source": [
    "# Avaliação de duplicidade de linhas\n",
    "\n",
    "dados.duplicated().sum()"
   ]
  },
  {
   "cell_type": "code",
   "execution_count": 5,
   "id": "b4393820",
   "metadata": {},
   "outputs": [
    {
     "data": {
      "text/plain": [
       "(192156, 194184, 194188)"
      ]
     },
     "execution_count": 5,
     "metadata": {},
     "output_type": "execute_result"
    }
   ],
   "source": [
    "# Avaliação de informações únicas para id e documento\n",
    "    # Alguns ids e documentos aparecem mais de uma vez na base\n",
    "    # Concatenando id e documento, ainda se tem duplicidade\n",
    "\n",
    "# Por anomes, a quantidade de documentos é única, mas a quantidade de ids não é. Provável que o id (cpf ou cnpj) tenha mais de um veículo/documento (feito no Google Colab)\n",
    "\n",
    "len(dados['id'].unique()), len(dados['documento'].unique()), len((dados['id']+dados['documento']).unique())"
   ]
  },
  {
   "cell_type": "code",
   "execution_count": 6,
   "id": "2a752053",
   "metadata": {},
   "outputs": [
    {
     "data": {
      "text/html": [
       "<div>\n",
       "<style scoped>\n",
       "    .dataframe tbody tr th:only-of-type {\n",
       "        vertical-align: middle;\n",
       "    }\n",
       "\n",
       "    .dataframe tbody tr th {\n",
       "        vertical-align: top;\n",
       "    }\n",
       "\n",
       "    .dataframe thead th {\n",
       "        text-align: right;\n",
       "    }\n",
       "</style>\n",
       "<table border=\"1\" class=\"dataframe\">\n",
       "  <thead>\n",
       "    <tr style=\"text-align: right;\">\n",
       "      <th></th>\n",
       "      <th>id</th>\n",
       "      <th>documento</th>\n",
       "      <th>mes_pagamento</th>\n",
       "      <th>dias_atraso</th>\n",
       "      <th>segmento_veiculo</th>\n",
       "      <th>saldo_vencido</th>\n",
       "      <th>pagamento</th>\n",
       "      <th>divida_restante</th>\n",
       "      <th>per_pago</th>\n",
       "      <th>GENERO</th>\n",
       "      <th>...</th>\n",
       "      <th>VAR_306</th>\n",
       "      <th>VAR_307</th>\n",
       "      <th>VAR_308</th>\n",
       "      <th>VAR_309</th>\n",
       "      <th>VAR_310</th>\n",
       "      <th>VAR_311</th>\n",
       "      <th>VAR_312</th>\n",
       "      <th>VAR_313</th>\n",
       "      <th>VAR_314</th>\n",
       "      <th>VAR_315</th>\n",
       "    </tr>\n",
       "  </thead>\n",
       "  <tbody>\n",
       "    <tr>\n",
       "      <th>70160</th>\n",
       "      <td>0x79e698</td>\n",
       "      <td>0x100054</td>\n",
       "      <td>202203</td>\n",
       "      <td>10</td>\n",
       "      <td>motos</td>\n",
       "      <td>499.02</td>\n",
       "      <td>499.02</td>\n",
       "      <td>0.00</td>\n",
       "      <td>1.000000</td>\n",
       "      <td>F</td>\n",
       "      <td>...</td>\n",
       "      <td>PROXIMO</td>\n",
       "      <td>MUITO LONGE</td>\n",
       "      <td>MEDIO</td>\n",
       "      <td>0.0</td>\n",
       "      <td>1.0</td>\n",
       "      <td>URBANO</td>\n",
       "      <td>CENTRO-OESTE</td>\n",
       "      <td>NaN</td>\n",
       "      <td>F</td>\n",
       "      <td>NaN</td>\n",
       "    </tr>\n",
       "    <tr>\n",
       "      <th>353</th>\n",
       "      <td>0x79e698</td>\n",
       "      <td>0x100054</td>\n",
       "      <td>202210</td>\n",
       "      <td>12</td>\n",
       "      <td>motos</td>\n",
       "      <td>499.02</td>\n",
       "      <td>499.02</td>\n",
       "      <td>0.00</td>\n",
       "      <td>1.000000</td>\n",
       "      <td>F</td>\n",
       "      <td>...</td>\n",
       "      <td>PROXIMO</td>\n",
       "      <td>MUITO LONGE</td>\n",
       "      <td>MEDIO</td>\n",
       "      <td>0.0</td>\n",
       "      <td>1.0</td>\n",
       "      <td>URBANO</td>\n",
       "      <td>CENTRO-OESTE</td>\n",
       "      <td>NaN</td>\n",
       "      <td>F</td>\n",
       "      <td>NaN</td>\n",
       "    </tr>\n",
       "    <tr>\n",
       "      <th>214171</th>\n",
       "      <td>0x8d0b7e</td>\n",
       "      <td>0x606c45</td>\n",
       "      <td>202203</td>\n",
       "      <td>68</td>\n",
       "      <td>leves</td>\n",
       "      <td>2199.99</td>\n",
       "      <td>802.25</td>\n",
       "      <td>1397.74</td>\n",
       "      <td>0.364661</td>\n",
       "      <td>M</td>\n",
       "      <td>...</td>\n",
       "      <td>PROXIMO</td>\n",
       "      <td>LONGE</td>\n",
       "      <td>PROXIMO</td>\n",
       "      <td>0.0</td>\n",
       "      <td>1.0</td>\n",
       "      <td>URBANO</td>\n",
       "      <td>SUDESTE</td>\n",
       "      <td>NaN</td>\n",
       "      <td>E</td>\n",
       "      <td>NaN</td>\n",
       "    </tr>\n",
       "    <tr>\n",
       "      <th>246771</th>\n",
       "      <td>0x8d0b7e</td>\n",
       "      <td>0x606c45</td>\n",
       "      <td>202204</td>\n",
       "      <td>68</td>\n",
       "      <td>leves</td>\n",
       "      <td>2199.99</td>\n",
       "      <td>802.25</td>\n",
       "      <td>1397.74</td>\n",
       "      <td>0.364661</td>\n",
       "      <td>M</td>\n",
       "      <td>...</td>\n",
       "      <td>PROXIMO</td>\n",
       "      <td>LONGE</td>\n",
       "      <td>PROXIMO</td>\n",
       "      <td>0.0</td>\n",
       "      <td>1.0</td>\n",
       "      <td>URBANO</td>\n",
       "      <td>SUDESTE</td>\n",
       "      <td>NaN</td>\n",
       "      <td>E</td>\n",
       "      <td>NaN</td>\n",
       "    </tr>\n",
       "    <tr>\n",
       "      <th>209840</th>\n",
       "      <td>0x8d0b7e</td>\n",
       "      <td>0x606c45</td>\n",
       "      <td>202205</td>\n",
       "      <td>67</td>\n",
       "      <td>leves</td>\n",
       "      <td>2199.99</td>\n",
       "      <td>800.11</td>\n",
       "      <td>1399.88</td>\n",
       "      <td>0.363688</td>\n",
       "      <td>M</td>\n",
       "      <td>...</td>\n",
       "      <td>PROXIMO</td>\n",
       "      <td>LONGE</td>\n",
       "      <td>PROXIMO</td>\n",
       "      <td>0.0</td>\n",
       "      <td>1.0</td>\n",
       "      <td>URBANO</td>\n",
       "      <td>SUDESTE</td>\n",
       "      <td>NaN</td>\n",
       "      <td>E</td>\n",
       "      <td>NaN</td>\n",
       "    </tr>\n",
       "    <tr>\n",
       "      <th>259554</th>\n",
       "      <td>0x8d0b7e</td>\n",
       "      <td>0x606c45</td>\n",
       "      <td>202206</td>\n",
       "      <td>70</td>\n",
       "      <td>leves</td>\n",
       "      <td>2199.99</td>\n",
       "      <td>2199.99</td>\n",
       "      <td>0.00</td>\n",
       "      <td>1.000000</td>\n",
       "      <td>M</td>\n",
       "      <td>...</td>\n",
       "      <td>PROXIMO</td>\n",
       "      <td>LONGE</td>\n",
       "      <td>PROXIMO</td>\n",
       "      <td>0.0</td>\n",
       "      <td>1.0</td>\n",
       "      <td>URBANO</td>\n",
       "      <td>SUDESTE</td>\n",
       "      <td>NaN</td>\n",
       "      <td>E</td>\n",
       "      <td>NaN</td>\n",
       "    </tr>\n",
       "    <tr>\n",
       "      <th>234052</th>\n",
       "      <td>0x8d0b7e</td>\n",
       "      <td>0x606c45</td>\n",
       "      <td>202209</td>\n",
       "      <td>70</td>\n",
       "      <td>leves</td>\n",
       "      <td>2199.99</td>\n",
       "      <td>789.63</td>\n",
       "      <td>1410.36</td>\n",
       "      <td>0.358924</td>\n",
       "      <td>M</td>\n",
       "      <td>...</td>\n",
       "      <td>PROXIMO</td>\n",
       "      <td>LONGE</td>\n",
       "      <td>PROXIMO</td>\n",
       "      <td>0.0</td>\n",
       "      <td>1.0</td>\n",
       "      <td>URBANO</td>\n",
       "      <td>SUDESTE</td>\n",
       "      <td>NaN</td>\n",
       "      <td>E</td>\n",
       "      <td>NaN</td>\n",
       "    </tr>\n",
       "    <tr>\n",
       "      <th>273664</th>\n",
       "      <td>0x8d0b7e</td>\n",
       "      <td>0x606c45</td>\n",
       "      <td>202210</td>\n",
       "      <td>70</td>\n",
       "      <td>leves</td>\n",
       "      <td>2199.99</td>\n",
       "      <td>1608.06</td>\n",
       "      <td>591.93</td>\n",
       "      <td>0.730940</td>\n",
       "      <td>M</td>\n",
       "      <td>...</td>\n",
       "      <td>PROXIMO</td>\n",
       "      <td>LONGE</td>\n",
       "      <td>PROXIMO</td>\n",
       "      <td>0.0</td>\n",
       "      <td>1.0</td>\n",
       "      <td>URBANO</td>\n",
       "      <td>SUDESTE</td>\n",
       "      <td>NaN</td>\n",
       "      <td>E</td>\n",
       "      <td>NaN</td>\n",
       "    </tr>\n",
       "    <tr>\n",
       "      <th>173882</th>\n",
       "      <td>0x8d0b7e</td>\n",
       "      <td>0x606c45</td>\n",
       "      <td>202211</td>\n",
       "      <td>39</td>\n",
       "      <td>leves</td>\n",
       "      <td>1466.66</td>\n",
       "      <td>0.00</td>\n",
       "      <td>1466.66</td>\n",
       "      <td>0.000000</td>\n",
       "      <td>M</td>\n",
       "      <td>...</td>\n",
       "      <td>PROXIMO</td>\n",
       "      <td>LONGE</td>\n",
       "      <td>PROXIMO</td>\n",
       "      <td>0.0</td>\n",
       "      <td>1.0</td>\n",
       "      <td>URBANO</td>\n",
       "      <td>SUDESTE</td>\n",
       "      <td>NaN</td>\n",
       "      <td>E</td>\n",
       "      <td>NaN</td>\n",
       "    </tr>\n",
       "    <tr>\n",
       "      <th>254378</th>\n",
       "      <td>0x8d0b7e</td>\n",
       "      <td>0x606c45</td>\n",
       "      <td>202301</td>\n",
       "      <td>70</td>\n",
       "      <td>leves</td>\n",
       "      <td>2199.99</td>\n",
       "      <td>811.53</td>\n",
       "      <td>1388.46</td>\n",
       "      <td>0.368879</td>\n",
       "      <td>NaN</td>\n",
       "      <td>...</td>\n",
       "      <td>NaN</td>\n",
       "      <td>NaN</td>\n",
       "      <td>NaN</td>\n",
       "      <td>NaN</td>\n",
       "      <td>NaN</td>\n",
       "      <td>NaN</td>\n",
       "      <td>NaN</td>\n",
       "      <td>NaN</td>\n",
       "      <td>NaN</td>\n",
       "      <td>NaN</td>\n",
       "    </tr>\n",
       "    <tr>\n",
       "      <th>237443</th>\n",
       "      <td>0x5debc7</td>\n",
       "      <td>0x74b012</td>\n",
       "      <td>202204</td>\n",
       "      <td>67</td>\n",
       "      <td>leves</td>\n",
       "      <td>2055.60</td>\n",
       "      <td>767.33</td>\n",
       "      <td>1288.27</td>\n",
       "      <td>0.373288</td>\n",
       "      <td>M</td>\n",
       "      <td>...</td>\n",
       "      <td>PROXIMO</td>\n",
       "      <td>PROXIMO</td>\n",
       "      <td>PROXIMO</td>\n",
       "      <td>1.0</td>\n",
       "      <td>1.0</td>\n",
       "      <td>URBANO</td>\n",
       "      <td>SUL</td>\n",
       "      <td>0.0</td>\n",
       "      <td>E</td>\n",
       "      <td>1.0</td>\n",
       "    </tr>\n",
       "    <tr>\n",
       "      <th>227093</th>\n",
       "      <td>0x5debc7</td>\n",
       "      <td>0x74b012</td>\n",
       "      <td>202205</td>\n",
       "      <td>66</td>\n",
       "      <td>leves</td>\n",
       "      <td>2055.60</td>\n",
       "      <td>765.84</td>\n",
       "      <td>1289.76</td>\n",
       "      <td>0.372563</td>\n",
       "      <td>M</td>\n",
       "      <td>...</td>\n",
       "      <td>PROXIMO</td>\n",
       "      <td>PROXIMO</td>\n",
       "      <td>PROXIMO</td>\n",
       "      <td>1.0</td>\n",
       "      <td>1.0</td>\n",
       "      <td>URBANO</td>\n",
       "      <td>SUL</td>\n",
       "      <td>0.0</td>\n",
       "      <td>E</td>\n",
       "      <td>1.0</td>\n",
       "    </tr>\n",
       "    <tr>\n",
       "      <th>269869</th>\n",
       "      <td>0x5debc7</td>\n",
       "      <td>0x74b012</td>\n",
       "      <td>202206</td>\n",
       "      <td>69</td>\n",
       "      <td>leves</td>\n",
       "      <td>2055.60</td>\n",
       "      <td>767.33</td>\n",
       "      <td>1288.27</td>\n",
       "      <td>0.373288</td>\n",
       "      <td>M</td>\n",
       "      <td>...</td>\n",
       "      <td>PROXIMO</td>\n",
       "      <td>PROXIMO</td>\n",
       "      <td>PROXIMO</td>\n",
       "      <td>1.0</td>\n",
       "      <td>1.0</td>\n",
       "      <td>URBANO</td>\n",
       "      <td>SUL</td>\n",
       "      <td>0.0</td>\n",
       "      <td>E</td>\n",
       "      <td>1.0</td>\n",
       "    </tr>\n",
       "    <tr>\n",
       "      <th>272505</th>\n",
       "      <td>0x5debc7</td>\n",
       "      <td>0x74b012</td>\n",
       "      <td>202207</td>\n",
       "      <td>68</td>\n",
       "      <td>leves</td>\n",
       "      <td>2055.60</td>\n",
       "      <td>768.82</td>\n",
       "      <td>1286.78</td>\n",
       "      <td>0.374012</td>\n",
       "      <td>M</td>\n",
       "      <td>...</td>\n",
       "      <td>PROXIMO</td>\n",
       "      <td>PROXIMO</td>\n",
       "      <td>PROXIMO</td>\n",
       "      <td>1.0</td>\n",
       "      <td>1.0</td>\n",
       "      <td>URBANO</td>\n",
       "      <td>SUL</td>\n",
       "      <td>0.0</td>\n",
       "      <td>E</td>\n",
       "      <td>1.0</td>\n",
       "    </tr>\n",
       "    <tr>\n",
       "      <th>255298</th>\n",
       "      <td>0x5debc7</td>\n",
       "      <td>0x74b012</td>\n",
       "      <td>202208</td>\n",
       "      <td>69</td>\n",
       "      <td>leves</td>\n",
       "      <td>2055.60</td>\n",
       "      <td>769.56</td>\n",
       "      <td>1286.04</td>\n",
       "      <td>0.374372</td>\n",
       "      <td>M</td>\n",
       "      <td>...</td>\n",
       "      <td>PROXIMO</td>\n",
       "      <td>PROXIMO</td>\n",
       "      <td>PROXIMO</td>\n",
       "      <td>1.0</td>\n",
       "      <td>1.0</td>\n",
       "      <td>URBANO</td>\n",
       "      <td>SUL</td>\n",
       "      <td>0.0</td>\n",
       "      <td>E</td>\n",
       "      <td>1.0</td>\n",
       "    </tr>\n",
       "    <tr>\n",
       "      <th>254143</th>\n",
       "      <td>0x5debc7</td>\n",
       "      <td>0x74b012</td>\n",
       "      <td>202209</td>\n",
       "      <td>69</td>\n",
       "      <td>leves</td>\n",
       "      <td>2055.60</td>\n",
       "      <td>650.94</td>\n",
       "      <td>1404.66</td>\n",
       "      <td>0.316667</td>\n",
       "      <td>M</td>\n",
       "      <td>...</td>\n",
       "      <td>PROXIMO</td>\n",
       "      <td>PROXIMO</td>\n",
       "      <td>PROXIMO</td>\n",
       "      <td>1.0</td>\n",
       "      <td>1.0</td>\n",
       "      <td>URBANO</td>\n",
       "      <td>SUL</td>\n",
       "      <td>0.0</td>\n",
       "      <td>E</td>\n",
       "      <td>1.0</td>\n",
       "    </tr>\n",
       "    <tr>\n",
       "      <th>266742</th>\n",
       "      <td>0x5debc7</td>\n",
       "      <td>0x74b012</td>\n",
       "      <td>202210</td>\n",
       "      <td>69</td>\n",
       "      <td>leves</td>\n",
       "      <td>2055.60</td>\n",
       "      <td>769.56</td>\n",
       "      <td>1286.04</td>\n",
       "      <td>0.374372</td>\n",
       "      <td>M</td>\n",
       "      <td>...</td>\n",
       "      <td>PROXIMO</td>\n",
       "      <td>PROXIMO</td>\n",
       "      <td>PROXIMO</td>\n",
       "      <td>1.0</td>\n",
       "      <td>1.0</td>\n",
       "      <td>URBANO</td>\n",
       "      <td>SUL</td>\n",
       "      <td>0.0</td>\n",
       "      <td>E</td>\n",
       "      <td>1.0</td>\n",
       "    </tr>\n",
       "    <tr>\n",
       "      <th>264557</th>\n",
       "      <td>0x5debc7</td>\n",
       "      <td>0x74b012</td>\n",
       "      <td>202211</td>\n",
       "      <td>69</td>\n",
       "      <td>leves</td>\n",
       "      <td>2055.60</td>\n",
       "      <td>650.94</td>\n",
       "      <td>1404.66</td>\n",
       "      <td>0.316667</td>\n",
       "      <td>M</td>\n",
       "      <td>...</td>\n",
       "      <td>PROXIMO</td>\n",
       "      <td>PROXIMO</td>\n",
       "      <td>PROXIMO</td>\n",
       "      <td>1.0</td>\n",
       "      <td>1.0</td>\n",
       "      <td>URBANO</td>\n",
       "      <td>SUL</td>\n",
       "      <td>0.0</td>\n",
       "      <td>E</td>\n",
       "      <td>1.0</td>\n",
       "    </tr>\n",
       "    <tr>\n",
       "      <th>275235</th>\n",
       "      <td>0x5debc7</td>\n",
       "      <td>0x74b012</td>\n",
       "      <td>202212</td>\n",
       "      <td>68</td>\n",
       "      <td>leves</td>\n",
       "      <td>2055.60</td>\n",
       "      <td>0.00</td>\n",
       "      <td>2055.60</td>\n",
       "      <td>0.000000</td>\n",
       "      <td>M</td>\n",
       "      <td>...</td>\n",
       "      <td>PROXIMO</td>\n",
       "      <td>PROXIMO</td>\n",
       "      <td>PROXIMO</td>\n",
       "      <td>1.0</td>\n",
       "      <td>1.0</td>\n",
       "      <td>URBANO</td>\n",
       "      <td>SUL</td>\n",
       "      <td>0.0</td>\n",
       "      <td>E</td>\n",
       "      <td>1.0</td>\n",
       "    </tr>\n",
       "    <tr>\n",
       "      <th>163108</th>\n",
       "      <td>0x235154</td>\n",
       "      <td>0xfffc</td>\n",
       "      <td>202205</td>\n",
       "      <td>35</td>\n",
       "      <td>leves</td>\n",
       "      <td>1318.08</td>\n",
       "      <td>701.34</td>\n",
       "      <td>616.74</td>\n",
       "      <td>0.532092</td>\n",
       "      <td>M</td>\n",
       "      <td>...</td>\n",
       "      <td>PROXIMO</td>\n",
       "      <td>MUITO LONGE</td>\n",
       "      <td>PROXIMO</td>\n",
       "      <td>0.0</td>\n",
       "      <td>1.0</td>\n",
       "      <td>URBANO</td>\n",
       "      <td>SUDESTE</td>\n",
       "      <td>NaN</td>\n",
       "      <td>D</td>\n",
       "      <td>1.0</td>\n",
       "    </tr>\n",
       "    <tr>\n",
       "      <th>217436</th>\n",
       "      <td>0x235154</td>\n",
       "      <td>0xfffc</td>\n",
       "      <td>202208</td>\n",
       "      <td>66</td>\n",
       "      <td>leves</td>\n",
       "      <td>1977.12</td>\n",
       "      <td>709.18</td>\n",
       "      <td>1267.94</td>\n",
       "      <td>0.358693</td>\n",
       "      <td>M</td>\n",
       "      <td>...</td>\n",
       "      <td>PROXIMO</td>\n",
       "      <td>MUITO LONGE</td>\n",
       "      <td>PROXIMO</td>\n",
       "      <td>0.0</td>\n",
       "      <td>1.0</td>\n",
       "      <td>URBANO</td>\n",
       "      <td>SUDESTE</td>\n",
       "      <td>NaN</td>\n",
       "      <td>D</td>\n",
       "      <td>1.0</td>\n",
       "    </tr>\n",
       "    <tr>\n",
       "      <th>41035</th>\n",
       "      <td>0x752df0</td>\n",
       "      <td>0xffff6</td>\n",
       "      <td>202208</td>\n",
       "      <td>15</td>\n",
       "      <td>leves</td>\n",
       "      <td>1346.85</td>\n",
       "      <td>0.00</td>\n",
       "      <td>1346.85</td>\n",
       "      <td>0.000000</td>\n",
       "      <td>F</td>\n",
       "      <td>...</td>\n",
       "      <td>PROXIMO</td>\n",
       "      <td>MEDIO</td>\n",
       "      <td>PROXIMO</td>\n",
       "      <td>0.0</td>\n",
       "      <td>0.0</td>\n",
       "      <td>URBANO</td>\n",
       "      <td>SUDESTE</td>\n",
       "      <td>0.0</td>\n",
       "      <td>F</td>\n",
       "      <td>1.0</td>\n",
       "    </tr>\n",
       "    <tr>\n",
       "      <th>118583</th>\n",
       "      <td>0x752df0</td>\n",
       "      <td>0xffff6</td>\n",
       "      <td>202209</td>\n",
       "      <td>46</td>\n",
       "      <td>leves</td>\n",
       "      <td>2693.70</td>\n",
       "      <td>0.00</td>\n",
       "      <td>2693.70</td>\n",
       "      <td>0.000000</td>\n",
       "      <td>F</td>\n",
       "      <td>...</td>\n",
       "      <td>PROXIMO</td>\n",
       "      <td>MEDIO</td>\n",
       "      <td>PROXIMO</td>\n",
       "      <td>0.0</td>\n",
       "      <td>0.0</td>\n",
       "      <td>URBANO</td>\n",
       "      <td>SUDESTE</td>\n",
       "      <td>0.0</td>\n",
       "      <td>F</td>\n",
       "      <td>1.0</td>\n",
       "    </tr>\n",
       "  </tbody>\n",
       "</table>\n",
       "<p>23 rows × 328 columns</p>\n",
       "</div>"
      ],
      "text/plain": [
       "              id documento  mes_pagamento  dias_atraso segmento_veiculo  \\\n",
       "70160   0x79e698  0x100054         202203           10            motos   \n",
       "353     0x79e698  0x100054         202210           12            motos   \n",
       "214171  0x8d0b7e  0x606c45         202203           68            leves   \n",
       "246771  0x8d0b7e  0x606c45         202204           68            leves   \n",
       "209840  0x8d0b7e  0x606c45         202205           67            leves   \n",
       "259554  0x8d0b7e  0x606c45         202206           70            leves   \n",
       "234052  0x8d0b7e  0x606c45         202209           70            leves   \n",
       "273664  0x8d0b7e  0x606c45         202210           70            leves   \n",
       "173882  0x8d0b7e  0x606c45         202211           39            leves   \n",
       "254378  0x8d0b7e  0x606c45         202301           70            leves   \n",
       "237443  0x5debc7  0x74b012         202204           67            leves   \n",
       "227093  0x5debc7  0x74b012         202205           66            leves   \n",
       "269869  0x5debc7  0x74b012         202206           69            leves   \n",
       "272505  0x5debc7  0x74b012         202207           68            leves   \n",
       "255298  0x5debc7  0x74b012         202208           69            leves   \n",
       "254143  0x5debc7  0x74b012         202209           69            leves   \n",
       "266742  0x5debc7  0x74b012         202210           69            leves   \n",
       "264557  0x5debc7  0x74b012         202211           69            leves   \n",
       "275235  0x5debc7  0x74b012         202212           68            leves   \n",
       "163108  0x235154    0xfffc         202205           35            leves   \n",
       "217436  0x235154    0xfffc         202208           66            leves   \n",
       "41035   0x752df0   0xffff6         202208           15            leves   \n",
       "118583  0x752df0   0xffff6         202209           46            leves   \n",
       "\n",
       "        saldo_vencido  pagamento  divida_restante  per_pago GENERO  ...  \\\n",
       "70160          499.02     499.02             0.00  1.000000      F  ...   \n",
       "353            499.02     499.02             0.00  1.000000      F  ...   \n",
       "214171        2199.99     802.25          1397.74  0.364661      M  ...   \n",
       "246771        2199.99     802.25          1397.74  0.364661      M  ...   \n",
       "209840        2199.99     800.11          1399.88  0.363688      M  ...   \n",
       "259554        2199.99    2199.99             0.00  1.000000      M  ...   \n",
       "234052        2199.99     789.63          1410.36  0.358924      M  ...   \n",
       "273664        2199.99    1608.06           591.93  0.730940      M  ...   \n",
       "173882        1466.66       0.00          1466.66  0.000000      M  ...   \n",
       "254378        2199.99     811.53          1388.46  0.368879    NaN  ...   \n",
       "237443        2055.60     767.33          1288.27  0.373288      M  ...   \n",
       "227093        2055.60     765.84          1289.76  0.372563      M  ...   \n",
       "269869        2055.60     767.33          1288.27  0.373288      M  ...   \n",
       "272505        2055.60     768.82          1286.78  0.374012      M  ...   \n",
       "255298        2055.60     769.56          1286.04  0.374372      M  ...   \n",
       "254143        2055.60     650.94          1404.66  0.316667      M  ...   \n",
       "266742        2055.60     769.56          1286.04  0.374372      M  ...   \n",
       "264557        2055.60     650.94          1404.66  0.316667      M  ...   \n",
       "275235        2055.60       0.00          2055.60  0.000000      M  ...   \n",
       "163108        1318.08     701.34           616.74  0.532092      M  ...   \n",
       "217436        1977.12     709.18          1267.94  0.358693      M  ...   \n",
       "41035         1346.85       0.00          1346.85  0.000000      F  ...   \n",
       "118583        2693.70       0.00          2693.70  0.000000      F  ...   \n",
       "\n",
       "        VAR_306      VAR_307  VAR_308 VAR_309 VAR_310 VAR_311       VAR_312  \\\n",
       "70160   PROXIMO  MUITO LONGE    MEDIO     0.0     1.0  URBANO  CENTRO-OESTE   \n",
       "353     PROXIMO  MUITO LONGE    MEDIO     0.0     1.0  URBANO  CENTRO-OESTE   \n",
       "214171  PROXIMO        LONGE  PROXIMO     0.0     1.0  URBANO       SUDESTE   \n",
       "246771  PROXIMO        LONGE  PROXIMO     0.0     1.0  URBANO       SUDESTE   \n",
       "209840  PROXIMO        LONGE  PROXIMO     0.0     1.0  URBANO       SUDESTE   \n",
       "259554  PROXIMO        LONGE  PROXIMO     0.0     1.0  URBANO       SUDESTE   \n",
       "234052  PROXIMO        LONGE  PROXIMO     0.0     1.0  URBANO       SUDESTE   \n",
       "273664  PROXIMO        LONGE  PROXIMO     0.0     1.0  URBANO       SUDESTE   \n",
       "173882  PROXIMO        LONGE  PROXIMO     0.0     1.0  URBANO       SUDESTE   \n",
       "254378      NaN          NaN      NaN     NaN     NaN     NaN           NaN   \n",
       "237443  PROXIMO      PROXIMO  PROXIMO     1.0     1.0  URBANO           SUL   \n",
       "227093  PROXIMO      PROXIMO  PROXIMO     1.0     1.0  URBANO           SUL   \n",
       "269869  PROXIMO      PROXIMO  PROXIMO     1.0     1.0  URBANO           SUL   \n",
       "272505  PROXIMO      PROXIMO  PROXIMO     1.0     1.0  URBANO           SUL   \n",
       "255298  PROXIMO      PROXIMO  PROXIMO     1.0     1.0  URBANO           SUL   \n",
       "254143  PROXIMO      PROXIMO  PROXIMO     1.0     1.0  URBANO           SUL   \n",
       "266742  PROXIMO      PROXIMO  PROXIMO     1.0     1.0  URBANO           SUL   \n",
       "264557  PROXIMO      PROXIMO  PROXIMO     1.0     1.0  URBANO           SUL   \n",
       "275235  PROXIMO      PROXIMO  PROXIMO     1.0     1.0  URBANO           SUL   \n",
       "163108  PROXIMO  MUITO LONGE  PROXIMO     0.0     1.0  URBANO       SUDESTE   \n",
       "217436  PROXIMO  MUITO LONGE  PROXIMO     0.0     1.0  URBANO       SUDESTE   \n",
       "41035   PROXIMO        MEDIO  PROXIMO     0.0     0.0  URBANO       SUDESTE   \n",
       "118583  PROXIMO        MEDIO  PROXIMO     0.0     0.0  URBANO       SUDESTE   \n",
       "\n",
       "        VAR_313  VAR_314  VAR_315  \n",
       "70160       NaN        F      NaN  \n",
       "353         NaN        F      NaN  \n",
       "214171      NaN        E      NaN  \n",
       "246771      NaN        E      NaN  \n",
       "209840      NaN        E      NaN  \n",
       "259554      NaN        E      NaN  \n",
       "234052      NaN        E      NaN  \n",
       "273664      NaN        E      NaN  \n",
       "173882      NaN        E      NaN  \n",
       "254378      NaN      NaN      NaN  \n",
       "237443      0.0        E      1.0  \n",
       "227093      0.0        E      1.0  \n",
       "269869      0.0        E      1.0  \n",
       "272505      0.0        E      1.0  \n",
       "255298      0.0        E      1.0  \n",
       "254143      0.0        E      1.0  \n",
       "266742      0.0        E      1.0  \n",
       "264557      0.0        E      1.0  \n",
       "275235      0.0        E      1.0  \n",
       "163108      NaN        D      1.0  \n",
       "217436      NaN        D      1.0  \n",
       "41035       0.0        F      1.0  \n",
       "118583      0.0        F      1.0  \n",
       "\n",
       "[23 rows x 328 columns]"
      ]
     },
     "execution_count": 6,
     "metadata": {},
     "output_type": "execute_result"
    }
   ],
   "source": [
    "# Observe nos casos abaixo que: \n",
    "    # Para um indivíduo o atraso é curto, mas é pago em sua totalidade\n",
    "    # Para outro, existe o arrasto da dívida para outros meses e o pagamento se torna parcial\n",
    "\n",
    "dados[dados['documento'].isin(['0xffff6', '0xfffc', '0x100054', '0x74b012', '0x606c45'])].sort_values(['documento', 'mes_pagamento'])"
   ]
  },
  {
   "cell_type": "code",
   "execution_count": 4,
   "id": "791dad6e",
   "metadata": {},
   "outputs": [
    {
     "data": {
      "text/html": [
       "<div>\n",
       "<style scoped>\n",
       "    .dataframe tbody tr th:only-of-type {\n",
       "        vertical-align: middle;\n",
       "    }\n",
       "\n",
       "    .dataframe tbody tr th {\n",
       "        vertical-align: top;\n",
       "    }\n",
       "\n",
       "    .dataframe thead th {\n",
       "        text-align: right;\n",
       "    }\n",
       "</style>\n",
       "<table border=\"1\" class=\"dataframe\">\n",
       "  <thead>\n",
       "    <tr style=\"text-align: right;\">\n",
       "      <th></th>\n",
       "      <th>%nulos</th>\n",
       "    </tr>\n",
       "  </thead>\n",
       "  <tbody>\n",
       "    <tr>\n",
       "      <th>VAR_19</th>\n",
       "      <td>1.000000</td>\n",
       "    </tr>\n",
       "    <tr>\n",
       "      <th>VAR_255</th>\n",
       "      <td>0.998810</td>\n",
       "    </tr>\n",
       "    <tr>\n",
       "      <th>VAR_0</th>\n",
       "      <td>0.998573</td>\n",
       "    </tr>\n",
       "    <tr>\n",
       "      <th>VAR_303</th>\n",
       "      <td>0.997277</td>\n",
       "    </tr>\n",
       "    <tr>\n",
       "      <th>VAR_39</th>\n",
       "      <td>0.997200</td>\n",
       "    </tr>\n",
       "    <tr>\n",
       "      <th>...</th>\n",
       "      <td>...</td>\n",
       "    </tr>\n",
       "    <tr>\n",
       "      <th>divida_restante</th>\n",
       "      <td>0.000000</td>\n",
       "    </tr>\n",
       "    <tr>\n",
       "      <th>segmento_veiculo</th>\n",
       "      <td>0.000000</td>\n",
       "    </tr>\n",
       "    <tr>\n",
       "      <th>documento</th>\n",
       "      <td>0.000000</td>\n",
       "    </tr>\n",
       "    <tr>\n",
       "      <th>mes_pagamento</th>\n",
       "      <td>0.000000</td>\n",
       "    </tr>\n",
       "    <tr>\n",
       "      <th>per_pago</th>\n",
       "      <td>0.000000</td>\n",
       "    </tr>\n",
       "  </tbody>\n",
       "</table>\n",
       "<p>328 rows × 1 columns</p>\n",
       "</div>"
      ],
      "text/plain": [
       "                    %nulos\n",
       "VAR_19            1.000000\n",
       "VAR_255           0.998810\n",
       "VAR_0             0.998573\n",
       "VAR_303           0.997277\n",
       "VAR_39            0.997200\n",
       "...                    ...\n",
       "divida_restante   0.000000\n",
       "segmento_veiculo  0.000000\n",
       "documento         0.000000\n",
       "mes_pagamento     0.000000\n",
       "per_pago          0.000000\n",
       "\n",
       "[328 rows x 1 columns]"
      ]
     },
     "execution_count": 4,
     "metadata": {},
     "output_type": "execute_result"
    }
   ],
   "source": [
    "# Avaliação de nulidade das colunas\n",
    "    # As colunas com pelo menos 60% de nulos serão removidas\n",
    "    # A nulidade pode ocorrer por falta de dados ou mesmo por alguma etapa de join de bases (as etapas de avaliação de MCAR, MAR e MNAR não foram realizadas)\n",
    "        # https://ealexbarros.medium.com/principais-tipos-de-dados-faltantes-missing-em-um-dataset-49aa35cf18c8\n",
    "\n",
    "nulos = pd.DataFrame(dados.isna().sum()).rename(columns = {0: 'nulos'})\n",
    "nulos.sort_values(by = 'nulos', ascending=False)\n",
    "\n",
    "perc_nulos = nulos.sort_values(by = 'nulos', ascending=False)/dados.shape[0]\n",
    "perc_nulos.rename(columns = {'nulos': '%nulos'}, inplace=True)\n",
    "perc_nulos"
   ]
  },
  {
   "cell_type": "code",
   "execution_count": 8,
   "id": "19d268ff",
   "metadata": {},
   "outputs": [
    {
     "data": {
      "text/plain": [
       "(73, 1)"
      ]
     },
     "execution_count": 8,
     "metadata": {},
     "output_type": "execute_result"
    }
   ],
   "source": [
    "# Quantidade de colunas desconsideradas em análises futuras\n",
    "\n",
    "perc_nulos[perc_nulos['%nulos'] >= 0.6].shape"
   ]
  },
  {
   "cell_type": "code",
   "execution_count": 5,
   "id": "f49d3728",
   "metadata": {},
   "outputs": [],
   "source": [
    "# Variáveis a serem removidas\n",
    "\n",
    "vars_drop = perc_nulos[perc_nulos['%nulos'] >= 0.6].index.tolist()"
   ]
  },
  {
   "cell_type": "code",
   "execution_count": 10,
   "id": "28450580",
   "metadata": {},
   "outputs": [
    {
     "data": {
      "text/plain": [
       "array([202203, 202204, 202205, 202206, 202207, 202208, 202209, 202210,\n",
       "       202211, 202212, 202301])"
      ]
     },
     "execution_count": 10,
     "metadata": {},
     "output_type": "execute_result"
    }
   ],
   "source": [
    "# Safras existentes na base\n",
    "\n",
    "np.sort(dados['mes_pagamento'].unique())"
   ]
  },
  {
   "cell_type": "code",
   "execution_count": 11,
   "id": "977567c7",
   "metadata": {},
   "outputs": [
    {
     "data": {
      "text/plain": [
       "array(['leves', 'motos', 'pesados'], dtype=object)"
      ]
     },
     "execution_count": 11,
     "metadata": {},
     "output_type": "execute_result"
    }
   ],
   "source": [
    "# Segmentos de veículos\n",
    "\n",
    "dados['segmento_veiculo'].unique()"
   ]
  },
  {
   "cell_type": "code",
   "execution_count": 12,
   "id": "58c8ca47",
   "metadata": {},
   "outputs": [
    {
     "data": {
      "text/plain": [
       "segmento_veiculo\n",
       "leves      213667\n",
       "motos       86321\n",
       "pesados        12\n",
       "Name: id, dtype: int64"
      ]
     },
     "execution_count": 12,
     "metadata": {},
     "output_type": "execute_result"
    }
   ],
   "source": [
    "# Volumetria de segmentos de veículos\n",
    "\n",
    "dados.groupby('segmento_veiculo').count()['id']"
   ]
  },
  {
   "cell_type": "code",
   "execution_count": 13,
   "id": "a9f3a031",
   "metadata": {},
   "outputs": [
    {
     "data": {
      "text/plain": [
       "<Axes: >"
      ]
     },
     "execution_count": 13,
     "metadata": {},
     "output_type": "execute_result"
    },
    {
     "data": {
      "image/png": "[encoded data removed]",
      "text/plain": [
       "<Figure size 640x480 with 1 Axes>"
      ]
     },
     "metadata": {},
     "output_type": "display_data"
    }
   ],
   "source": [
    "# Distribuição do percentual pago\n",
    "\n",
    "dados['per_pago'].hist()"
   ]
  },
  {
   "cell_type": "code",
   "execution_count": 15,
   "id": "66c32f12",
   "metadata": {},
   "outputs": [
    {
     "data": {
      "text/plain": [
       "<Axes: >"
      ]
     },
     "execution_count": 15,
     "metadata": {},
     "output_type": "execute_result"
    },
    {
     "data": {
      "image/png": "[encoded data removed]",
      "text/plain": [
       "<Figure size 640x480 with 1 Axes>"
      ]
     },
     "metadata": {},
     "output_type": "display_data"
    }
   ],
   "source": [
    "# Distribuição de valores pagos\n",
    "\n",
    "dados['pagamento'].hist()"
   ]
  },
  {
   "cell_type": "code",
   "execution_count": 16,
   "id": "5a1a383a",
   "metadata": {},
   "outputs": [
    {
     "data": {
      "text/plain": [
       "0.3535566666666667"
      ]
     },
     "execution_count": 16,
     "metadata": {},
     "output_type": "execute_result"
    }
   ],
   "source": [
    "dados[dados['pagamento']==0].shape[0]/dados.shape[0]"
   ]
  },
  {
   "cell_type": "code",
   "execution_count": 17,
   "id": "c55b5f58",
   "metadata": {},
   "outputs": [
    {
     "data": {
      "text/plain": [
       "<Axes: >"
      ]
     },
     "execution_count": 17,
     "metadata": {},
     "output_type": "execute_result"
    },
    {
     "data": {
      "image/png": "[encoded data removed]",
      "text/plain": [
       "<Figure size 640x480 with 1 Axes>"
      ]
     },
     "metadata": {},
     "output_type": "display_data"
    }
   ],
   "source": [
    "# Distribuição de saldo vencido\n",
    "\n",
    "dados['saldo_vencido'].hist()"
   ]
  },
  {
   "cell_type": "code",
   "execution_count": 18,
   "id": "2e364211",
   "metadata": {},
   "outputs": [
    {
     "data": {
      "text/plain": [
       "<Axes: >"
      ]
     },
     "execution_count": 18,
     "metadata": {},
     "output_type": "execute_result"
    },
    {
     "data": {
      "image/png": "[encoded data removed]",
      "text/plain": [
       "<Figure size 640x480 with 1 Axes>"
      ]
     },
     "metadata": {},
     "output_type": "display_data"
    }
   ],
   "source": [
    "# Distribuição de dias em atraso\n",
    "\n",
    "dados['dias_atraso'].hist()"
   ]
  },
  {
   "cell_type": "code",
   "execution_count": 19,
   "id": "bbed5d77",
   "metadata": {},
   "outputs": [
    {
     "data": {
      "text/plain": [
       "count    300000.000000\n",
       "mean         44.772927\n",
       "std          24.518707\n",
       "min           8.000000\n",
       "25%          22.000000\n",
       "50%          43.000000\n",
       "75%          66.000000\n",
       "max          90.000000\n",
       "Name: dias_atraso, dtype: float64"
      ]
     },
     "execution_count": 19,
     "metadata": {},
     "output_type": "execute_result"
    }
   ],
   "source": [
    "# Análise descritiva de dias em atraso\n",
    "    # O menor atraso foi de 8 dias e o maior foi de 90 dias\n",
    "\n",
    "dados['dias_atraso'].describe()"
   ]
  },
  {
   "cell_type": "code",
   "execution_count": 20,
   "id": "09f30473",
   "metadata": {},
   "outputs": [
    {
     "data": {
      "text/plain": [
       "<Axes: >"
      ]
     },
     "execution_count": 20,
     "metadata": {},
     "output_type": "execute_result"
    },
    {
     "data": {
      "image/png": "[encoded data removed]",
      "text/plain": [
       "<Figure size 640x480 with 1 Axes>"
      ]
     },
     "metadata": {},
     "output_type": "display_data"
    }
   ],
   "source": [
    "dados[dados['per_pago'] == 1]['dias_atraso'].hist()"
   ]
  },
  {
   "cell_type": "code",
   "execution_count": 21,
   "id": "54fef09a",
   "metadata": {},
   "outputs": [
    {
     "data": {
      "text/plain": [
       "<Axes: >"
      ]
     },
     "execution_count": 21,
     "metadata": {},
     "output_type": "execute_result"
    },
    {
     "data": {
      "image/png": "[encoded data removed]",
      "text/plain": [
       "<Figure size 640x480 with 1 Axes>"
      ]
     },
     "metadata": {},
     "output_type": "display_data"
    }
   ],
   "source": [
    "dados[((dados['per_pago'] > 0) & (dados['per_pago'] < 1))]['dias_atraso'].hist()"
   ]
  },
  {
   "cell_type": "code",
   "execution_count": 22,
   "id": "db47a536",
   "metadata": {},
   "outputs": [
    {
     "data": {
      "text/plain": [
       "<Axes: >"
      ]
     },
     "execution_count": 22,
     "metadata": {},
     "output_type": "execute_result"
    },
    {
     "data": {
      "image/png": "[encoded data removed]",
      "text/plain": [
       "<Figure size 640x480 with 1 Axes>"
      ]
     },
     "metadata": {},
     "output_type": "display_data"
    }
   ],
   "source": [
    "dados[dados['per_pago'] == 0]['dias_atraso'].hist()"
   ]
  },
  {
   "cell_type": "code",
   "execution_count": 23,
   "id": "2071ad87",
   "metadata": {},
   "outputs": [
    {
     "data": {
      "text/plain": [
       "<Axes: >"
      ]
     },
     "execution_count": 23,
     "metadata": {},
     "output_type": "execute_result"
    },
    {
     "data": {
      "image/png": "[encoded data removed]",
      "text/plain": [
       "<Figure size 640x480 with 1 Axes>"
      ]
     },
     "metadata": {},
     "output_type": "display_data"
    }
   ],
   "source": [
    "dados[dados['per_pago'] < 1]['dias_atraso'].hist()"
   ]
  },
  {
   "cell_type": "code",
   "execution_count": 6,
   "id": "0c3053f1",
   "metadata": {},
   "outputs": [],
   "source": [
    "# Criação de target para avaliar o pagamento total, parcial ou não pagamento\n",
    "    # 1 - Pagamento total\n",
    "    # -1 - Pagamento parcial\n",
    "    # 0 - Não pagamento\n",
    "\n",
    "dados['target'] = np.where(dados['per_pago'] == 1, 1, np.where(((dados['per_pago'] > 0) & (dados['per_pago'] < 1)), -1, 0))"
   ]
  },
  {
   "cell_type": "code",
   "execution_count": 25,
   "id": "9eff2be1",
   "metadata": {},
   "outputs": [
    {
     "data": {
      "text/plain": [
       "target\n",
       " 1    110872\n",
       " 0    106057\n",
       "-1     83071\n",
       "Name: count, dtype: int64"
      ]
     },
     "execution_count": 25,
     "metadata": {},
     "output_type": "execute_result"
    }
   ],
   "source": [
    "dados['target'].value_counts()"
   ]
  },
  {
   "cell_type": "code",
   "execution_count": 7,
   "id": "aa7688a1",
   "metadata": {},
   "outputs": [
    {
     "data": {
      "text/plain": [
       "target\n",
       " 1    0.369573\n",
       " 0    0.353523\n",
       "-1    0.276903\n",
       "Name: proportion, dtype: float64"
      ]
     },
     "execution_count": 7,
     "metadata": {},
     "output_type": "execute_result"
    }
   ],
   "source": [
    "dados['target'].value_counts(normalize=True)"
   ]
  },
  {
   "cell_type": "code",
   "execution_count": 27,
   "id": "d51d62fb",
   "metadata": {},
   "outputs": [],
   "source": [
    "# Distribuição dos dias em atraso por pagamentos: total, parcial e não pagamento\n",
    "    # Note que a distribuição de quem fez o pagamento parcial e não fez o pagamento é semelhante\n",
    "    # Por simplicidade, pode-se agrupar essas duas classes em uma só: \"sem pagamento e pagamento parcial\"\n",
    "\n",
    "# plt.hist(dados[dados['target'] == 0]['dias_atraso'], alpha=0.5, label='Sem pagamento')\n",
    "# plt.hist(dados[dados['target'] == 1]['dias_atraso'], alpha=0.2, label='Pagamento total')\n",
    "# plt.hist(dados[dados['target'] == -1]['dias_atraso'], alpha=0.5, label='Pagamento parcial')\n",
    "# plt.legend(loc='upper right')\n",
    "# plt.show()"
   ]
  },
  {
   "cell_type": "code",
   "execution_count": null,
   "id": "e9927877",
   "metadata": {},
   "outputs": [],
   "source": [
    "# Criação de target para avaliar o pagamento total, parcial ou não pagamento\n",
    "    # 1 - Pagamento total\n",
    "    # 0 - Não pagamento ou pagamento parcial\n",
    "\n",
    "# dados['target'] = np.where(dados['per_pago'] == 1, 1, 0)"
   ]
  },
  {
   "cell_type": "code",
   "execution_count": 28,
   "id": "4ea368a7",
   "metadata": {},
   "outputs": [],
   "source": [
    "# plt.hist(dados[dados['target'] == 0]['dias_atraso'], alpha=0.5, label='Não pagamento ou pagamento parcial')\n",
    "# plt.hist(dados[dados['target'] == 1]['dias_atraso'], alpha=0.2, label='Pagamento total')\n",
    "# plt.legend(loc='upper right')\n",
    "# plt.show()"
   ]
  },
  {
   "cell_type": "markdown",
   "id": "8e0edf43",
   "metadata": {},
   "source": [
    "# Particionamento e filtro dos dados faltantes "
   ]
  },
  {
   "cell_type": "code",
   "execution_count": 8,
   "id": "aa278d20",
   "metadata": {},
   "outputs": [],
   "source": [
    "# Remove as variáveis com pelo menos 60% de nulos\n",
    "# Remove as linhas com o segmento de veículo igual a 'pesados'\n",
    "\n",
    "dados = dados.drop(columns = vars_drop)\n",
    "dados = dados[dados['segmento_veiculo'] != 'pesados']"
   ]
  },
  {
   "cell_type": "code",
   "execution_count": 33,
   "id": "4d8eaae3",
   "metadata": {},
   "outputs": [],
   "source": [
    "treino = dados[dados['mes_pagamento'] < 202210]\n",
    "oot = dados[dados['mes_pagamento'] >= 202210]"
   ]
  },
  {
   "cell_type": "code",
   "execution_count": 10,
   "id": "b442d391",
   "metadata": {},
   "outputs": [
    {
     "data": {
      "text/plain": [
       "(189362, 256)"
      ]
     },
     "execution_count": 10,
     "metadata": {},
     "output_type": "execute_result"
    }
   ],
   "source": [
    "treino.shape"
   ]
  },
  {
   "cell_type": "code",
   "execution_count": 31,
   "id": "82eb447d",
   "metadata": {},
   "outputs": [
    {
     "data": {
      "text/plain": [
       "array([202203, 202204, 202205, 202206, 202207, 202208, 202209])"
      ]
     },
     "execution_count": 31,
     "metadata": {},
     "output_type": "execute_result"
    }
   ],
   "source": [
    "# Valida os meses de treino\n",
    "\n",
    "np.sort(treino['mes_pagamento'].unique())"
   ]
  },
  {
   "cell_type": "code",
   "execution_count": 32,
   "id": "9ed78e87",
   "metadata": {},
   "outputs": [
    {
     "data": {
      "text/plain": [
       "array([202210, 202211, 202212, 202301])"
      ]
     },
     "execution_count": 32,
     "metadata": {},
     "output_type": "execute_result"
    }
   ],
   "source": [
    "# Valida os meses da oot\n",
    "\n",
    "np.sort(oot['mes_pagamento'].unique())"
   ]
  },
  {
   "cell_type": "code",
   "execution_count": 35,
   "id": "926ac22e",
   "metadata": {},
   "outputs": [],
   "source": [
    "# Considera um id único na base e esse id é o que aparece no último mês de pagamento ou não\n",
    "\n",
    "treino = treino.sort_values(by='mes_pagamento').drop_duplicates(subset = ['id'], keep='last')"
   ]
  },
  {
   "cell_type": "code",
   "execution_count": 36,
   "id": "126e251c",
   "metadata": {},
   "outputs": [
    {
     "data": {
      "text/plain": [
       "137300"
      ]
     },
     "execution_count": 36,
     "metadata": {},
     "output_type": "execute_result"
    }
   ],
   "source": [
    "len(treino['id'].unique())"
   ]
  },
  {
   "cell_type": "code",
   "execution_count": 37,
   "id": "483c271f",
   "metadata": {},
   "outputs": [
    {
     "data": {
      "text/plain": [
       "(137300, 256)"
      ]
     },
     "execution_count": 37,
     "metadata": {},
     "output_type": "execute_result"
    }
   ],
   "source": [
    "treino.shape"
   ]
  },
  {
   "cell_type": "code",
   "execution_count": 26,
   "id": "a8e4a0a7",
   "metadata": {},
   "outputs": [
    {
     "data": {
      "text/plain": [
       "96110.0"
      ]
     },
     "execution_count": 26,
     "metadata": {},
     "output_type": "execute_result"
    }
   ],
   "source": [
    "# 70% da base de treino será usada para treino e 30% para validação\n",
    "0.7*137300"
   ]
  },
  {
   "cell_type": "code",
   "execution_count": 38,
   "id": "13e0cc72",
   "metadata": {},
   "outputs": [
    {
     "data": {
      "text/plain": [
       "mes_pagamento\n",
       "202203    14949\n",
       "202204    15850\n",
       "202205    18151\n",
       "202206    18213\n",
       "202207    20145\n",
       "202208    23373\n",
       "202209    26619\n",
       "Name: id, dtype: int64"
      ]
     },
     "execution_count": 38,
     "metadata": {},
     "output_type": "execute_result"
    }
   ],
   "source": [
    "treino.groupby(['mes_pagamento']).count()['id']"
   ]
  },
  {
   "cell_type": "code",
   "execution_count": 39,
   "id": "b37fc6c8",
   "metadata": {},
   "outputs": [],
   "source": [
    "validacao = treino.groupby(['mes_pagamento']).sample(frac=.3, random_state=123)"
   ]
  },
  {
   "cell_type": "code",
   "execution_count": 40,
   "id": "d1d5fc40",
   "metadata": {},
   "outputs": [
    {
     "data": {
      "text/plain": [
       "(41191, 256)"
      ]
     },
     "execution_count": 40,
     "metadata": {},
     "output_type": "execute_result"
    }
   ],
   "source": [
    "validacao.shape"
   ]
  },
  {
   "cell_type": "code",
   "execution_count": 41,
   "id": "dcc52f31",
   "metadata": {},
   "outputs": [
    {
     "data": {
      "text/plain": [
       "mes_pagamento\n",
       "202203    4485\n",
       "202204    4755\n",
       "202205    5445\n",
       "202206    5464\n",
       "202207    6044\n",
       "202208    7012\n",
       "202209    7986\n",
       "Name: id, dtype: int64"
      ]
     },
     "execution_count": 41,
     "metadata": {},
     "output_type": "execute_result"
    }
   ],
   "source": [
    "validacao.groupby(['mes_pagamento']).count()['id']"
   ]
  },
  {
   "cell_type": "code",
   "execution_count": 42,
   "id": "e2dcdb21",
   "metadata": {},
   "outputs": [],
   "source": [
    "treino = treino.drop(index=validacao.index)"
   ]
  },
  {
   "cell_type": "code",
   "execution_count": 43,
   "id": "a15cc547",
   "metadata": {},
   "outputs": [
    {
     "data": {
      "text/plain": [
       "(96109, 256)"
      ]
     },
     "execution_count": 43,
     "metadata": {},
     "output_type": "execute_result"
    }
   ],
   "source": [
    "treino.shape"
   ]
  },
  {
   "cell_type": "code",
   "execution_count": 44,
   "id": "e5892c49",
   "metadata": {},
   "outputs": [
    {
     "data": {
      "text/plain": [
       "mes_pagamento\n",
       "202203    10464\n",
       "202204    11095\n",
       "202205    12706\n",
       "202206    12749\n",
       "202207    14101\n",
       "202208    16361\n",
       "202209    18633\n",
       "Name: id, dtype: int64"
      ]
     },
     "execution_count": 44,
     "metadata": {},
     "output_type": "execute_result"
    }
   ],
   "source": [
    "treino.groupby(['mes_pagamento']).count()['id']"
   ]
  },
  {
   "cell_type": "code",
   "execution_count": 45,
   "id": "fbcf5a93",
   "metadata": {},
   "outputs": [
    {
     "data": {
      "text/plain": [
       "137300"
      ]
     },
     "execution_count": 45,
     "metadata": {},
     "output_type": "execute_result"
    }
   ],
   "source": [
    "treino.shape[0]+validacao.shape[0] "
   ]
  },
  {
   "cell_type": "markdown",
   "id": "7c394fcf",
   "metadata": {},
   "source": [
    "## Salva bases"
   ]
  },
  {
   "cell_type": "code",
   "execution_count": null,
   "id": "cfadfce7",
   "metadata": {},
   "outputs": [],
   "source": []
  },
  {
   "cell_type": "markdown",
   "id": "a604db7d",
   "metadata": {},
   "source": [
    "# Conclusões\n",
    "\n",
    "- Desconsidera/remove variáveis com pelo menos 60% de dados faltantes;\n",
    "\n",
    "- Desconsidera/remove linhas do segmento de veículos pesados;\n",
    "\n",
    "- Criação da variável target: 1 - se o indivíduo pagou totalmente o atraso; 0 - caso o indivíduo não pagou nada e -1 - caso o indivíduo pagou parcialmente;\n",
    "\n",
    "- Separação das bases em treino, validação e teste (OOT). A base de validação foi construída considerando fatias dos meses de pagamentos."
   ]
  }
 ],
 "metadata": {
  "kernelspec": {
   "display_name": "vCobranca",
   "language": "python",
   "name": "python3"
  },
  "language_info": {
   "codemirror_mode": {
    "name": "ipython",
    "version": 3
   },
   "file_extension": ".py",
   "mimetype": "text/x-python",
   "name": "python",
   "nbconvert_exporter": "python",
   "pygments_lexer": "ipython3",
   "version": "3.12.3"
  }
 },
 "nbformat": 4,
 "nbformat_minor": 5
}
